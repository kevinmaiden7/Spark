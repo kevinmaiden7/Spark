{
 "cells": [
  {
   "cell_type": "markdown",
   "metadata": {
    "id": "9iNtEO3SLZ3a"
   },
   "source": [
    "## ANÁLISIS DE LOGS CON SPARK\n",
    "\n",
    "Realizado por:\n",
    "\n",
    "\n",
    "Deiry Sofía Navas Muriel - deiry.navas@udea.edu.co\n",
    "\n",
    "Mateo Llano Avendaño - mateo.llano@udea.edu.co \n",
    "\n",
    "Kevin Martinez - kevin.martinez@udea.edu.co \n",
    "#### Incluir gráficas en los análisis"
   ]
  },
  {
   "cell_type": "markdown",
   "metadata": {
    "id": "ugbm3qcGLZ3b"
   },
   "source": [
    "\n",
    "### Configuración de ambiente e importación de librerias"
   ]
  },
  {
   "cell_type": "code",
   "execution_count": null,
   "metadata": {
    "id": "NhKziT8hQMws"
   },
   "outputs": [],
   "source": [
    "!rm -rf spark-2.4.7-bin-hadoop2.7/ spark-2.4.7-bin-hadoop2.7.tgz"
   ]
  },
  {
   "cell_type": "code",
   "execution_count": null,
   "metadata": {
    "id": "JXf_uYUpLZ3b"
   },
   "outputs": [],
   "source": [
    "# instalar ambiente de Spark\n",
    "!apt-get update\n",
    "!apt-get install openjdk-8-jdk-headless -qq > /dev/null\n",
    "!wget -q http://apache.osuosl.org/spark/spark-2.4.7/spark-2.4.7-bin-hadoop2.7.tgz\n",
    "!tar xf spark-2.4.7-bin-hadoop2.7.tgz\n",
    "!pip install -q findspark"
   ]
  },
  {
   "cell_type": "code",
   "execution_count": null,
   "metadata": {
    "id": "o2YUGgvbMPPr"
   },
   "outputs": [],
   "source": [
    "# configuración de variables de ambiente\n",
    "import os\n",
    "os.environ[\"JAVA_HOME\"] = \"/usr/lib/jvm/java-8-openjdk-amd64\"\n",
    "os.environ[\"SPARK_HOME\"] = \"/content/spark-2.4.7-bin-hadoop2.7\""
   ]
  },
  {
   "cell_type": "code",
   "execution_count": null,
   "metadata": {
    "id": "hRV3Jp0jMXJI"
   },
   "outputs": [],
   "source": [
    "# imports\n",
    "import findspark\n",
    "findspark.init()\n",
    "from pyspark.sql import SparkSession , SQLContext\n",
    "from pyspark import SparkContext,SparkConf"
   ]
  },
  {
   "cell_type": "code",
   "execution_count": null,
   "metadata": {
    "id": "9VCpO5JYMZqF"
   },
   "outputs": [],
   "source": [
    "# definir la sesion\n",
    "conf = SparkConf().setAppName(\"log_analysis\").setMaster(\"local[*]\")\n",
    "sc = SparkContext(conf=conf)\n",
    "spark = SQLContext(sc)"
   ]
  },
  {
   "cell_type": "code",
   "execution_count": null,
   "metadata": {
    "id": "3zxKgCLQ9iMj"
   },
   "outputs": [],
   "source": [
    "#sc.stop()"
   ]
  },
  {
   "cell_type": "code",
   "execution_count": null,
   "metadata": {
    "id": "ZxiAKVhXNTYC"
   },
   "outputs": [],
   "source": [
    "# otros imports de utilidad\n",
    "import numpy as np\n",
    "import matplotlib.pyplot as plt\n",
    "from collections import Counter\n",
    "import operator\n",
    "import itertools\n",
    "import requests\n",
    "import re\n",
    "import pandas as pd\n",
    "!pip install pygal_maps_world\n",
    "!pip install geopy\n",
    "!pip install folium\n",
    "from pygal_maps_world.maps import World\n",
    "import folium\n",
    "from folium.plugins import MarkerCluster\n",
    "from geopy.geocoders import Nominatim"
   ]
  },
  {
   "cell_type": "markdown",
   "metadata": {
    "id": "S6OwJ3fWLZ3b"
   },
   "source": [
    "### Cargar el archivo con Spark"
   ]
  },
  {
   "cell_type": "code",
   "execution_count": null,
   "metadata": {
    "colab": {
     "base_uri": "https://localhost:8080/"
    },
    "id": "wJp_jM6OLZ3c",
    "outputId": "5f334dc8-f768-4258-f4a3-9b022a9af419"
   },
   "outputs": [
    {
     "data": {
      "text/plain": [
       "auth.log MapPartitionsRDD[1] at textFile at NativeMethodAccessorImpl.java:0"
      ]
     },
     "execution_count": 8,
     "metadata": {
      "tags": []
     },
     "output_type": "execute_result"
    }
   ],
   "source": [
    "log_rdd = sc.textFile('auth.log')\n",
    "log_rdd"
   ]
  },
  {
   "cell_type": "markdown",
   "metadata": {
    "id": "rukbq_zmLZ3c"
   },
   "source": [
    "### 1. Número de líneas que hay en el archivo"
   ]
  },
  {
   "cell_type": "code",
   "execution_count": null,
   "metadata": {
    "colab": {
     "base_uri": "https://localhost:8080/"
    },
    "id": "m6AIiyg3LZ3c",
    "outputId": "15727908-20de-4481-aef4-0e89e00c698d"
   },
   "outputs": [
    {
     "data": {
      "text/plain": [
       "102164"
      ]
     },
     "execution_count": 79,
     "metadata": {
      "tags": []
     },
     "output_type": "execute_result"
    }
   ],
   "source": [
    "log_rdd.count()"
   ]
  },
  {
   "cell_type": "markdown",
   "metadata": {
    "id": "6nOXNGsnX8NI"
   },
   "source": [
    "R// Hay 102164 líneas en el archivo"
   ]
  },
  {
   "cell_type": "markdown",
   "metadata": {
    "id": "h5Sna7ELLZ3c"
   },
   "source": [
    "### 2. Visualizar algunos registros"
   ]
  },
  {
   "cell_type": "code",
   "execution_count": null,
   "metadata": {
    "colab": {
     "base_uri": "https://localhost:8080/"
    },
    "id": "R2B14rYmLZ3d",
    "outputId": "bfcd3504-9a18-41ee-c25a-22e1ccc1b0b4"
   },
   "outputs": [
    {
     "data": {
      "text/plain": [
       "['Mar 16 08:12:04 app-1 login[4659]: pam_unix(login:session): session opened for user user3 by LOGIN(uid=0)',\n",
       " 'Mar 16 08:12:09 app-1 sudo:     user3 : TTY=tty1 ; PWD=/home/user3 ; USER=root ; COMMAND=/bin/su',\n",
       " 'Mar 16 08:12:09 app-1 sudo: pam_unix(sudo:session): session opened for user root by user3(uid=0)',\n",
       " 'Mar 16 08:12:09 app-1 sudo: pam_unix(sudo:session): session closed for user root',\n",
       " 'Mar 16 08:12:09 app-1 su[4679]: Successful su for root by root',\n",
       " 'Mar 16 08:12:09 app-1 su[4679]: + tty1 root:root',\n",
       " 'Mar 16 08:12:09 app-1 su[4679]: pam_unix(su:session): session opened for user root by user3(uid=0)']"
      ]
     },
     "execution_count": 9,
     "metadata": {
      "tags": []
     },
     "output_type": "execute_result"
    }
   ],
   "source": [
    "log_rdd.take(7)"
   ]
  },
  {
   "cell_type": "markdown",
   "metadata": {
    "id": "67LdupAxLZ3d"
   },
   "source": [
    "### 3. ¿Cuántos inicios de sesión exitosos?"
   ]
  },
  {
   "cell_type": "code",
   "execution_count": null,
   "metadata": {
    "colab": {
     "base_uri": "https://localhost:8080/"
    },
    "id": "ucN-XOqbLZ3f",
    "outputId": "1a081b71-7ad0-4ff9-d5d4-07e931039a32"
   },
   "outputs": [
    {
     "data": {
      "text/plain": [
       "118"
      ]
     },
     "execution_count": 80,
     "metadata": {
      "tags": []
     },
     "output_type": "execute_result"
    }
   ],
   "source": [
    "successful_user_login = log_rdd.filter(lambda x: \"Accepted password\" in x)\n",
    "successful_user_login.count()"
   ]
  },
  {
   "cell_type": "markdown",
   "metadata": {
    "id": "8FyeIm_JX2Li"
   },
   "source": [
    "R// El número de inicios de sesión exisos son 118"
   ]
  },
  {
   "cell_type": "markdown",
   "metadata": {
    "id": "s9ZmOmyRLZ3f"
   },
   "source": [
    "### 4. ¿Qué usuarios acceden correctamente?"
   ]
  },
  {
   "cell_type": "code",
   "execution_count": null,
   "metadata": {
    "colab": {
     "base_uri": "https://localhost:8080/"
    },
    "id": "BU0WWkc9LZ3f",
    "outputId": "12659c84-ba03-4232-a079-1e26b48c30a2"
   },
   "outputs": [
    {
     "data": {
      "text/plain": [
       "['Mar 16 08:26:06 app-1 sshd[4894]: Accepted password for user3 from 192.168.126.1 port 61474 ssh2',\n",
       " 'Mar 16 10:14:02 app-1 sshd[5142]: Accepted password for user3 from 192.168.126.1 port 62897 ssh2',\n",
       " 'Mar 16 17:12:24 app-1 sshd[5513]: Accepted password for user3 from 192.168.126.1 port 63555 ssh2',\n",
       " 'Mar 18 09:42:22 app-1 sshd[4693]: Accepted password for user3 from 10.0.1.2 port 64721 ssh2',\n",
       " 'Mar 18 10:00:10 app-1 sshd[4764]: Accepted password for user1 from 76.191.195.140 port 35226 ssh2']"
      ]
     },
     "execution_count": 11,
     "metadata": {
      "tags": []
     },
     "output_type": "execute_result"
    }
   ],
   "source": [
    "successful_user_login = successful_user_login.collect()\n",
    "successful_user_login[:5]"
   ]
  },
  {
   "cell_type": "code",
   "execution_count": null,
   "metadata": {
    "colab": {
     "base_uri": "https://localhost:8080/"
    },
    "id": "Y-egUVdINP8Z",
    "outputId": "96f171d8-4260-4217-ca7d-f3c7853b165a"
   },
   "outputs": [
    {
     "name": "stdout",
     "output_type": "stream",
     "text": [
      "118\n"
     ]
    },
    {
     "data": {
      "text/plain": [
       "['user3', 'user3', 'user3', 'user3', 'user1']"
      ]
     },
     "execution_count": 12,
     "metadata": {
      "tags": []
     },
     "output_type": "execute_result"
    }
   ],
   "source": [
    "succesful_login_user_list = [line.split(\"Accepted password for \")[1].split(\" from\")[0] for line in successful_user_login]\n",
    "print(len(succesful_login_user_list))\n",
    "succesful_login_user_list[:5]"
   ]
  },
  {
   "cell_type": "code",
   "execution_count": null,
   "metadata": {
    "colab": {
     "base_uri": "https://localhost:8080/"
    },
    "id": "sPZGE3OlN3Dk",
    "outputId": "c5211365-6bcc-4880-edd0-2903cc5eca0b"
   },
   "outputs": [
    {
     "name": "stdout",
     "output_type": "stream",
     "text": [
      "['user3', 'root', 'dhg', 'user2', 'fido', 'user1']\n",
      "[24, 28, 22, 5, 1, 38]\n"
     ]
    }
   ],
   "source": [
    "users = list(set(succesful_login_user_list)) # remove duplicates\n",
    "print(users)\n",
    "users_count = []\n",
    "[users_count.append(succesful_login_user_list.count(user)) for user in users]\n",
    "print(users_count)"
   ]
  },
  {
   "cell_type": "markdown",
   "metadata": {
    "id": "omPKacqqY45-"
   },
   "source": [
    "R// Hay un total de 6 usuarios que accedieron correctamente"
   ]
  },
  {
   "cell_type": "code",
   "execution_count": null,
   "metadata": {
    "colab": {
     "base_uri": "https://localhost:8080/",
     "height": 295
    },
    "id": "SW02cJN1NTse",
    "outputId": "5537bffa-d031-4a1c-e77e-70f8e63150b2"
   },
   "outputs": [
    {
     "data": {
      "image/png": "[encoded data removed]",
      "text/plain": [
       "<Figure size 432x288 with 1 Axes>"
      ]
     },
     "metadata": {
      "needs_background": "light",
      "tags": []
     },
     "output_type": "display_data"
    }
   ],
   "source": [
    "plt.bar(users, users_count, color = 'red')\n",
    "plt.xlabel('Nombre de usuario')\n",
    "plt.ylabel('Ingresos exitosos')\n",
    "plt.title('Accesos exitosos')\n",
    "plt.show()"
   ]
  },
  {
   "cell_type": "markdown",
   "metadata": {
    "id": "6hW1PChALZ3f"
   },
   "source": [
    "### 5. Conexiones fallidas como root "
   ]
  },
  {
   "cell_type": "code",
   "execution_count": null,
   "metadata": {
    "colab": {
     "base_uri": "https://localhost:8080/"
    },
    "id": "iFfm3Iz8LZ3g",
    "outputId": "b8ad32c6-b20c-459e-f032-5d57ec2b60e7"
   },
   "outputs": [
    {
     "name": "stdout",
     "output_type": "stream",
     "text": [
      "Número de conexiones fallidas a sudo su:  3\n"
     ]
    },
    {
     "data": {
      "text/plain": [
       "['Mar 18 11:20:19 app-1 su[9504]: FAILED su for root by user1',\n",
       " 'Mar 18 11:20:26 app-1 su[9506]: FAILED su for root by user1',\n",
       " 'Mar 18 17:01:17 app-1 su[14542]: FAILED su for root by user3']"
      ]
     },
     "execution_count": 9,
     "metadata": {
      "tags": []
     },
     "output_type": "execute_result"
    }
   ],
   "source": [
    "failed_connection = log_rdd.filter(lambda x: \"FAILED su\" in x)\n",
    "print(\"Número de conexiones fallidas a sudo su: \", failed_connection.count())\n",
    "failed_connection.collect()"
   ]
  },
  {
   "cell_type": "markdown",
   "metadata": {
    "id": "HhstpDMAZM64"
   },
   "source": [
    "R// Número de conexiones fallidas a sudo su:  3"
   ]
  },
  {
   "cell_type": "markdown",
   "metadata": {
    "id": "fDQmdXATLZ3g"
   },
   "source": [
    "### 6. Login fallidos por usuario"
   ]
  },
  {
   "cell_type": "code",
   "execution_count": null,
   "metadata": {
    "colab": {
     "base_uri": "https://localhost:8080/"
    },
    "id": "B6tsMZpYLZ3g",
    "outputId": "e566c465-78bd-429c-9acd-4900415b99f0"
   },
   "outputs": [
    {
     "data": {
      "text/plain": [
       "20338"
      ]
     },
     "execution_count": 81,
     "metadata": {
      "tags": []
     },
     "output_type": "execute_result"
    }
   ],
   "source": [
    "failed_user = log_rdd.filter(lambda x: \"Failed password\" in x)\n",
    "failed_user.count()"
   ]
  },
  {
   "cell_type": "code",
   "execution_count": null,
   "metadata": {
    "colab": {
     "base_uri": "https://localhost:8080/"
    },
    "id": "3L09CrBCZ_LO",
    "outputId": "ef8d3c5a-3e50-4e66-fad7-85eb44c6afef"
   },
   "outputs": [
    {
     "data": {
      "text/plain": [
       "['Apr 19 05:42:28 app-1 sshd[9029]: Failed password for invalid user website from 219.150.161.20 port 40720 ssh2',\n",
       " 'Apr 19 05:42:29 app-1 sshd[9032]: Failed password for invalid user test123 from 219.150.161.20 port 40880 ssh2',\n",
       " 'Apr 19 05:42:29 app-1 sshd[9025]: Failed password for invalid user carlota from 219.150.161.20 port 40682 ssh2',\n",
       " 'Apr 19 05:42:29 app-1 sshd[9024]: Failed password for root from 219.150.161.20 port 40678 ssh2',\n",
       " 'Apr 19 05:42:29 app-1 sshd[9026]: Failed password for invalid user caroleen from 219.150.161.20 port 40715 ssh2']"
      ]
     },
     "execution_count": 82,
     "metadata": {
      "tags": []
     },
     "output_type": "execute_result"
    }
   ],
   "source": [
    "failed_user_login = failed_user.collect()\n",
    "failed_user_login[1000:1005]"
   ]
  },
  {
   "cell_type": "code",
   "execution_count": null,
   "metadata": {
    "colab": {
     "base_uri": "https://localhost:8080/"
    },
    "id": "g-XIBLsACsr_",
    "outputId": "097dbbfe-6621-4caf-9b00-b4e0b996d764"
   },
   "outputs": [
    {
     "name": "stdout",
     "output_type": "stream",
     "text": [
      "20338\n"
     ]
    },
    {
     "data": {
      "text/plain": [
       "['user2', 'user2', 'user2', 'user2', 'root']"
      ]
     },
     "execution_count": 83,
     "metadata": {
      "tags": []
     },
     "output_type": "execute_result"
    }
   ],
   "source": [
    "fail_login_user_list = [line.split(\"Failed password for \")[1].split(\" from\")[0] \n",
    "                        for line in failed_user_login]\n",
    "print(len(fail_login_user_list))\n",
    "fail_login_user_list[:5]"
   ]
  },
  {
   "cell_type": "code",
   "execution_count": null,
   "metadata": {
    "colab": {
     "base_uri": "https://localhost:8080/"
    },
    "id": "PgS7cMT6fF8s",
    "outputId": "38bcde9b-603e-4d06-e5e7-4f9caaf0e18f"
   },
   "outputs": [
    {
     "name": "stdout",
     "output_type": "stream",
     "text": [
      "{'root': 5479, 'invalid user admin': 447, 'invalid user test': 282, 'invalid user administrator': 155, 'invalid user 123456': 154, 'invalid user 12345': 137, 'invalid user 123': 133, 'invalid user user': 132, 'invalid user oracle': 124, 'invalid user qwerty': 124, 'invalid user 1234': 117, 'invalid user zxcvb': 113, 'invalid user users': 105, 'invalid user abc': 95, 'invalid user abcde': 94}\n"
     ]
    }
   ],
   "source": [
    "failed_login_user_dict = Counter(fail_login_user_list) # turning list into dict\n",
    "failed_login_user_dict = dict(sorted(failed_login_user_dict.items(), key=operator.itemgetter(1), reverse=True)) # descending sort by value\n",
    "most_common_failed_login_users = dict(itertools.islice(failed_login_user_dict.items(), 15))\n",
    "print(most_common_failed_login_users)"
   ]
  },
  {
   "cell_type": "code",
   "execution_count": null,
   "metadata": {
    "colab": {
     "base_uri": "https://localhost:8080/",
     "height": 295
    },
    "id": "HZnBrYyZf4Cc",
    "outputId": "c303c8ac-6069-4314-fde8-0ce42cb6754c"
   },
   "outputs": [
    {
     "data": {
      "image/png": "[encoded data removed]",
      "text/plain": [
       "<Figure size 432x288 with 1 Axes>"
      ]
     },
     "metadata": {
      "needs_background": "light",
      "tags": []
     },
     "output_type": "display_data"
    }
   ],
   "source": [
    "plt.barh(list(most_common_failed_login_users.keys()), list(most_common_failed_login_users.values()), color = 'red')\n",
    "plt.xlabel('Intentos')\n",
    "plt.ylabel('Nombre usuario')\n",
    "plt.title('Los 15 usuarios más comunes de login fallidos')\n",
    "plt.show()"
   ]
  },
  {
   "cell_type": "markdown",
   "metadata": {
    "id": "1HCRI6D9LZ3g"
   },
   "source": [
    "### 7. ¿Cuántos intentos de inicio de sesión son usuarios no válidos?"
   ]
  },
  {
   "cell_type": "code",
   "execution_count": null,
   "metadata": {
    "colab": {
     "base_uri": "https://localhost:8080/"
    },
    "id": "7ACdC0XrLZ3g",
    "outputId": "06562850-6aa5-4a53-f73d-5a5dea68e454"
   },
   "outputs": [
    {
     "data": {
      "text/plain": [
       "14478"
      ]
     },
     "execution_count": 86,
     "metadata": {
      "tags": []
     },
     "output_type": "execute_result"
    }
   ],
   "source": [
    "invalid_users = log_rdd.filter(lambda line: 'Invalid user' in line)\n",
    "invalid_users.count()"
   ]
  },
  {
   "cell_type": "markdown",
   "metadata": {
    "id": "N0CMWAXfObEv"
   },
   "source": [
    "Se realizaron 14478 intentos de sesión con usuarios no válidos"
   ]
  },
  {
   "cell_type": "code",
   "execution_count": null,
   "metadata": {
    "colab": {
     "base_uri": "https://localhost:8080/"
    },
    "id": "ncv1V7_jOYik",
    "outputId": "ad459537-7067-417d-c926-fcc6f71716b2"
   },
   "outputs": [
    {
     "data": {
      "text/plain": [
       "['Apr 19 04:36:49 app-1 sshd[6990]: Invalid user tomcat from 203.81.226.86',\n",
       " 'Apr 19 05:19:08 app-1 sshd[7169]: Invalid user admin from 58.17.30.49',\n",
       " 'Apr 19 05:22:10 app-1 sshd[7259]: Invalid user tina from 58.17.30.49',\n",
       " 'Apr 19 05:22:14 app-1 sshd[7261]: Invalid user tom from 58.17.30.49',\n",
       " 'Apr 19 05:22:19 app-1 sshd[7263]: Invalid user tom from 58.17.30.49',\n",
       " 'Apr 19 05:22:23 app-1 sshd[7265]: Invalid user toor from 58.17.30.49',\n",
       " 'Apr 19 05:22:28 app-1 sshd[7267]: Invalid user tour from 58.17.30.49']"
      ]
     },
     "execution_count": 87,
     "metadata": {
      "tags": []
     },
     "output_type": "execute_result"
    }
   ],
   "source": [
    "invalid_users.take(7)"
   ]
  },
  {
   "cell_type": "code",
   "execution_count": null,
   "metadata": {
    "colab": {
     "base_uri": "https://localhost:8080/"
    },
    "id": "7a07Zd0AOdwk",
    "outputId": "29d938e2-d8d9-4e92-b951-6bbadd0b71ca"
   },
   "outputs": [
    {
     "name": "stdout",
     "output_type": "stream",
     "text": [
      "['tomcat', 'admin', 'tina', 'tom', 'tom', 'toor', 'tour']\n"
     ]
    }
   ],
   "source": [
    "invalid_users = invalid_users.collect()\n",
    "invalid_users_list = [line.split(\"Invalid user \")[1].split(\" from\")[0] for line in invalid_users]\n",
    "print(invalid_users_list[:7])"
   ]
  },
  {
   "cell_type": "code",
   "execution_count": null,
   "metadata": {
    "colab": {
     "base_uri": "https://localhost:8080/"
    },
    "id": "ovilqNdbOgwQ",
    "outputId": "afb4c70b-0c5c-415a-c50a-7b5e0850ccc8"
   },
   "outputs": [
    {
     "name": "stdout",
     "output_type": "stream",
     "text": [
      "{'admin': 447, 'test': 282, 'administrator': 155, '123456': 154, '12345': 137, '123': 133, 'user': 132, 'oracle': 124, 'qwerty': 124, '1234': 117, 'zxcvb': 113, 'users': 105, 'abc': 95, 'abcde': 94, 'tester': 92}\n"
     ]
    }
   ],
   "source": [
    "invalid_users_dict = Counter(invalid_users_list) # turning list into dict\n",
    "invalid_users_dict = dict(sorted(invalid_users_dict.items(), key=operator.itemgetter(1), reverse=True)) # descending sort by value\n",
    "most_common_invalid_users = dict(itertools.islice(invalid_users_dict.items(), 15))\n",
    "print(most_common_invalid_users)"
   ]
  },
  {
   "cell_type": "code",
   "execution_count": null,
   "metadata": {
    "colab": {
     "base_uri": "https://localhost:8080/",
     "height": 295
    },
    "id": "Kdni4B7pOn61",
    "outputId": "646884b5-8b6b-4cbb-f706-13056bb23759"
   },
   "outputs": [
    {
     "data": {
      "image/png": "[encoded data removed]",
      "text/plain": [
       "<Figure size 432x288 with 1 Axes>"
      ]
     },
     "metadata": {
      "needs_background": "light",
      "tags": []
     },
     "output_type": "display_data"
    }
   ],
   "source": [
    "plt.barh(list(most_common_invalid_users.keys()), list(most_common_invalid_users.values()), color = 'red')\n",
    "plt.xlabel('Intentos')\n",
    "plt.ylabel('Nombre usuario')\n",
    "plt.title('15 usuarios más comúnes inválidos')\n",
    "plt.show()"
   ]
  },
  {
   "cell_type": "markdown",
   "metadata": {
    "id": "yfcvCgfHLZ3g"
   },
   "source": [
    "### 8. Nuevos usuarios creados"
   ]
  },
  {
   "cell_type": "code",
   "execution_count": null,
   "metadata": {
    "colab": {
     "base_uri": "https://localhost:8080/"
    },
    "id": "m7HFWEb8LZ3g",
    "outputId": "cbe36a40-9eae-4d07-9a32-839c49e91499"
   },
   "outputs": [
    {
     "name": "stdout",
     "output_type": "stream",
     "text": [
      "Cantidad de nuevos usuarios:  11\n"
     ]
    },
    {
     "data": {
      "text/plain": [
       "['Mar 16 08:12:13 app-1 useradd[4692]: new user: name=user4, UID=1001, GID=1001, home=/home/user4, shell=/bin/bash',\n",
       " 'Mar 16 08:12:38 app-1 useradd[4703]: new user: name=user1, UID=1001, GID=1001, home=/home/user1, shell=/bin/bash',\n",
       " 'Mar 16 08:12:55 app-1 useradd[4711]: new user: name=user2, UID=1002, GID=1002, home=/home/user2, shell=/bin/bash',\n",
       " 'Mar 16 08:25:22 app-1 useradd[4845]: new user: name=sshd, UID=104, GID=65534, home=/var/run/sshd, shell=/usr/sbin/nologin',\n",
       " 'Mar 18 10:15:42 app-1 useradd[5393]: new user: name=Debian-exim, UID=105, GID=114, home=/var/spool/exim4, shell=/bin/false',\n",
       " 'Mar 18 10:18:26 app-1 useradd[6966]: new user: name=mysql, UID=106, GID=115, home=/var/lib/mysql, shell=/bin/false',\n",
       " 'Apr 19 22:38:00 app-1 useradd[2019]: new user: name=packet, UID=0, GID=0, home=/home/packet, shell=/bin/sh',\n",
       " 'Apr 19 22:45:13 app-1 useradd[2053]: new user: name=dhg, UID=1003, GID=1003, home=/home/dhg, shell=/bin/bash',\n",
       " 'Apr 24 19:27:35 app-1 useradd[1386]: new user: name=messagebus, UID=108, GID=117, home=/var/run/dbus, shell=/bin/false',\n",
       " 'Apr 25 10:41:44 app-1 useradd[9596]: new user: name=fido, UID=0, GID=1004, home=/home/fido, shell=/bin/sh',\n",
       " 'Apr 26 04:43:15 app-1 useradd[20115]: new user: name=wind3str0y, UID=1004, GID=1005, home=/home/wind3str0y, shell=/bin/bash']"
      ]
     },
     "execution_count": 9,
     "metadata": {
      "tags": []
     },
     "output_type": "execute_result"
    }
   ],
   "source": [
    "new_users  = log_rdd.filter(lambda x: \"new user\" in x)\n",
    "print(\"Cantidad de nuevos usuarios: \", new_users.count())\n",
    "new_users.collect()"
   ]
  },
  {
   "cell_type": "code",
   "execution_count": null,
   "metadata": {
    "colab": {
     "base_uri": "https://localhost:8080/"
    },
    "id": "2200INqY9ngn",
    "outputId": "461621d4-5d52-402e-e839-ff8df8da1136"
   },
   "outputs": [
    {
     "name": "stdout",
     "output_type": "stream",
     "text": [
      "Nuevos usuarios creados\n"
     ]
    },
    {
     "data": {
      "text/plain": [
       "['user4',\n",
       " 'user1',\n",
       " 'user2',\n",
       " 'sshd',\n",
       " 'Debian-exim',\n",
       " 'mysql',\n",
       " 'packet',\n",
       " 'dhg',\n",
       " 'messagebus',\n",
       " 'fido',\n",
       " 'wind3str0y']"
      ]
     },
     "execution_count": 10,
     "metadata": {
      "tags": []
     },
     "output_type": "execute_result"
    }
   ],
   "source": [
    "new_users = new_users.collect()\n",
    "new_users_list = [line.split(\"name=\")[1].split(\",\")[0] for line in new_users]\n",
    "print(\"Nuevos usuarios creados\")\n",
    "new_users_list"
   ]
  },
  {
   "cell_type": "markdown",
   "metadata": {
    "id": "55EPtFH-SS0m"
   },
   "source": [
    "R// Hay 11 nuevos usuarios creados"
   ]
  },
  {
   "cell_type": "markdown",
   "metadata": {
    "id": "fIASl4-zLZ3g"
   },
   "source": [
    "### 9. ¿Qué direcciones IP tienen el número de conexiones más alto para los login exitosos?"
   ]
  },
  {
   "cell_type": "code",
   "execution_count": null,
   "metadata": {
    "id": "fXIG4KSuLZ3g"
   },
   "outputs": [],
   "source": [
    "list_user = successful_user_login.collect()\n",
    "successful_user_login_list = [line.split(\"Accepted password for \")[1].split(\" from\")[0] for line in list_user]\n",
    "successful_ip_list = [line.split(\" from\")[1].split(\" port\")[0] for line in list_user]\n"
   ]
  },
  {
   "cell_type": "code",
   "execution_count": null,
   "metadata": {
    "colab": {
     "base_uri": "https://localhost:8080/"
    },
    "id": "94X57-nsRix6",
    "outputId": "49afe84b-6ea9-449b-ba38-4638a4c6d518"
   },
   "outputs": [
    {
     "data": {
      "text/plain": [
       "['Mar 16 08:26:06 app-1 sshd[4894]: Accepted password for user3 from 192.168.126.1 port 61474 ssh2',\n",
       " 'Mar 16 10:14:02 app-1 sshd[5142]: Accepted password for user3 from 192.168.126.1 port 62897 ssh2',\n",
       " 'Mar 16 17:12:24 app-1 sshd[5513]: Accepted password for user3 from 192.168.126.1 port 63555 ssh2',\n",
       " 'Mar 18 09:42:22 app-1 sshd[4693]: Accepted password for user3 from 10.0.1.2 port 64721 ssh2',\n",
       " 'Mar 18 10:00:10 app-1 sshd[4764]: Accepted password for user1 from 76.191.195.140 port 35226 ssh2']"
      ]
     },
     "execution_count": 92,
     "metadata": {
      "tags": []
     },
     "output_type": "execute_result"
    }
   ],
   "source": [
    "list_user[:5]"
   ]
  },
  {
   "cell_type": "code",
   "execution_count": null,
   "metadata": {
    "colab": {
     "base_uri": "https://localhost:8080/"
    },
    "id": "GtnxV4cRRjZY",
    "outputId": "5e6c2ddb-45ec-4927-dc3a-76ad62d7c12e"
   },
   "outputs": [
    {
     "data": {
      "text/plain": [
       "['user3', 'user3', 'user3', 'user3', 'user1']"
      ]
     },
     "execution_count": 93,
     "metadata": {
      "tags": []
     },
     "output_type": "execute_result"
    }
   ],
   "source": [
    "successful_user_login_list[:5]"
   ]
  },
  {
   "cell_type": "code",
   "execution_count": null,
   "metadata": {
    "colab": {
     "base_uri": "https://localhost:8080/"
    },
    "id": "yUpjcc9dRjjI",
    "outputId": "3a276455-c138-4a2a-f7d0-f7a42a68df58"
   },
   "outputs": [
    {
     "data": {
      "text/plain": [
       "[' 192.168.126.1',\n",
       " ' 192.168.126.1',\n",
       " ' 192.168.126.1',\n",
       " ' 10.0.1.2',\n",
       " ' 76.191.195.140']"
      ]
     },
     "execution_count": 94,
     "metadata": {
      "tags": []
     },
     "output_type": "execute_result"
    }
   ],
   "source": [
    "successful_ip_list[:5]"
   ]
  },
  {
   "cell_type": "code",
   "execution_count": null,
   "metadata": {
    "id": "kn8h3r_XRoQA"
   },
   "outputs": [],
   "source": [
    "id_address = Counter(successful_ip_list)\n",
    "counts = id_address\n",
    "index = []\n",
    "data = []"
   ]
  },
  {
   "cell_type": "code",
   "execution_count": null,
   "metadata": {
    "colab": {
     "base_uri": "https://localhost:8080/"
    },
    "id": "nlwM_NGiRrYx",
    "outputId": "db73568e-74cb-4098-ed11-9a527ef309ac"
   },
   "outputs": [
    {
     "data": {
      "text/plain": [
       " 190.166.87.164    23\n",
       " 76.191.195.140    22\n",
       " 10.0.1.2          14\n",
       " 208.80.69.74       7\n",
       " 65.88.2.5          6\n",
       "dtype: int64"
      ]
     },
     "execution_count": 96,
     "metadata": {
      "tags": []
     },
     "output_type": "execute_result"
    }
   ],
   "source": [
    "for k,v in counts.items():\n",
    "    index.append(k)\n",
    "    data.append(v)\n",
    "value_counts = pd.Series(data, index)\n",
    "value_counts = value_counts.sort_values(ascending=False)\n",
    "value_counts.head()"
   ]
  },
  {
   "cell_type": "code",
   "execution_count": null,
   "metadata": {
    "colab": {
     "base_uri": "https://localhost:8080/",
     "height": 628
    },
    "id": "HhxpjVR8Rtzq",
    "outputId": "937ec6c4-7dd5-42c7-9c3f-aebe6956169a"
   },
   "outputs": [
    {
     "data": {
      "text/plain": [
       "<matplotlib.axes._subplots.AxesSubplot at 0x7fceaf149390>"
      ]
     },
     "execution_count": 97,
     "metadata": {
      "tags": []
     },
     "output_type": "execute_result"
    },
    {
     "data": {
      "image/png": "[encoded data removed]",
      "text/plain": [
       "<Figure size 720x720 with 1 Axes>"
      ]
     },
     "metadata": {
      "tags": []
     },
     "output_type": "display_data"
    }
   ],
   "source": [
    "plt.figure(num=None, figsize=(9, 9), dpi=80, facecolor='w', edgecolor='k')\n",
    "\n",
    "value_counts.plot(kind=\"barh\", title=\"Direcciones IP con número de conexiones\")"
   ]
  },
  {
   "cell_type": "markdown",
   "metadata": {
    "id": "J5lKcPqfSd5A"
   },
   "source": [
    "R// Según la gráfica las primeras direcciones IPs superaran el promedio del número de conexiones exitosas, por esta razón, se afirma que la IPs: \n",
    "\n",
    "- 190.166.87.164 con 23 conexiones exitosas\n",
    "- 76.191.195.140 con 22 conexiones exitosas\n",
    "- 10.0.1.2 con 14 conexiones exitosas"
   ]
  },
  {
   "cell_type": "markdown",
   "metadata": {
    "id": "ta1Eq55VLZ3g"
   },
   "source": [
    "### 10. Direcciones IP con inicio de sesión fallidos"
   ]
  },
  {
   "cell_type": "code",
   "execution_count": null,
   "metadata": {
    "id": "ZDXl_alkLZ3g"
   },
   "outputs": [],
   "source": [
    "failed_login = log_rdd.filter(lambda line: 'Failed password' in line)"
   ]
  },
  {
   "cell_type": "code",
   "execution_count": null,
   "metadata": {
    "colab": {
     "base_uri": "https://localhost:8080/"
    },
    "id": "yrzd8sIlO7R_",
    "outputId": "d6f9e46f-101b-4b48-a529-5275702bd2a8"
   },
   "outputs": [
    {
     "data": {
      "text/plain": [
       "20338"
      ]
     },
     "execution_count": 99,
     "metadata": {
      "tags": []
     },
     "output_type": "execute_result"
    }
   ],
   "source": [
    "failed_login.count()"
   ]
  },
  {
   "cell_type": "code",
   "execution_count": null,
   "metadata": {
    "colab": {
     "base_uri": "https://localhost:8080/"
    },
    "id": "ZfaN_PswO9ZF",
    "outputId": "8805ef18-d7dd-407b-888c-f9d33f1b31b5"
   },
   "outputs": [
    {
     "data": {
      "text/plain": [
       "['Mar 18 11:38:05 app-1 sshd[10156]: Failed password for user2 from 71.132.129.212 port 34624 ssh2',\n",
       " 'Mar 18 11:38:10 app-1 sshd[10156]: Failed password for user2 from 71.132.129.212 port 34624 ssh2',\n",
       " 'Mar 18 11:38:43 app-1 sshd[10156]: Failed password for user2 from 71.132.129.212 port 34624 ssh2',\n",
       " 'Mar 18 11:38:59 app-1 sshd[10158]: Failed password for user2 from 71.132.129.212 port 34333 ssh2',\n",
       " 'Mar 29 13:23:46 app-1 sshd[21492]: Failed password for root from 10.0.1.2 port 51771 ssh2',\n",
       " 'Mar 29 13:26:46 app-1 sshd[21552]: Failed password for root from 10.0.1.2 port 51780 ssh2',\n",
       " 'Apr 15 14:47:52 app-1 sshd[10174]: Failed password for user1 from 208.80.69.74 port 33737 ssh2',\n",
       " 'Apr 18 18:22:09 app-1 sshd[5266]: Failed password for root from 61.151.246.140 port 52434 ssh2',\n",
       " 'Apr 18 18:22:13 app-1 sshd[5268]: Failed password for root from 61.151.246.140 port 52641 ssh2',\n",
       " 'Apr 18 18:22:17 app-1 sshd[5270]: Failed password for root from 61.151.246.140 port 52872 ssh2']"
      ]
     },
     "execution_count": 100,
     "metadata": {
      "tags": []
     },
     "output_type": "execute_result"
    }
   ],
   "source": [
    "failed_login.take(10)"
   ]
  },
  {
   "cell_type": "code",
   "execution_count": null,
   "metadata": {
    "colab": {
     "base_uri": "https://localhost:8080/"
    },
    "id": "bCy1Y6ozO-3_",
    "outputId": "ccdc3205-91d7-4d75-b1fd-241c7a3534dc"
   },
   "outputs": [
    {
     "name": "stdout",
     "output_type": "stream",
     "text": [
      "20338\n"
     ]
    },
    {
     "data": {
      "text/plain": [
       "['71.132.129.212',\n",
       " '71.132.129.212',\n",
       " '71.132.129.212',\n",
       " '71.132.129.212',\n",
       " '10.0.1.2']"
      ]
     },
     "execution_count": 101,
     "metadata": {
      "tags": []
     },
     "output_type": "execute_result"
    }
   ],
   "source": [
    "failed_login = failed_login.collect()\n",
    "failed_login_list = [line.split('from ')[1].split(' port')[0] for line in failed_login]\n",
    "print(len(failed_login_list))\n",
    "failed_login_list[:5]"
   ]
  },
  {
   "cell_type": "code",
   "execution_count": null,
   "metadata": {
    "colab": {
     "base_uri": "https://localhost:8080/"
    },
    "id": "ghYlb6U6PA2-",
    "outputId": "be52550f-2e8f-4f78-db50-d4a5982b0c19"
   },
   "outputs": [
    {
     "name": "stdout",
     "output_type": "stream",
     "text": [
      "46\n"
     ]
    }
   ],
   "source": [
    "failed_login_ip_dict = Counter(failed_login_list)\n",
    "failed_login_ip_dict = dict(sorted(failed_login_ip_dict.items(), key=operator.itemgetter(1),reverse=True)) # descending sort by value\n",
    "print(len(failed_login_ip_dict.items()))"
   ]
  },
  {
   "cell_type": "markdown",
   "metadata": {
    "id": "C9Aj3kQmPEgP"
   },
   "source": [
    "R// Se realizaron inicios de sesión fallidos desde 46 direcciones IP diferentes"
   ]
  },
  {
   "cell_type": "code",
   "execution_count": null,
   "metadata": {
    "colab": {
     "base_uri": "https://localhost:8080/"
    },
    "id": "GrRz8KC8PCj9",
    "outputId": "61c58484-71e8-4924-80af-a147f07df762"
   },
   "outputs": [
    {
     "name": "stdout",
     "output_type": "stream",
     "text": [
      "{'219.150.161.20': 9259, '8.12.45.242': 3037, '222.66.204.246': 1573, '121.11.66.70': 1435, '124.207.117.9': 650, '222.169.224.197': 646, '122.226.202.12': 513, '211.154.254.248': 455, '217.15.55.133': 427, '65.208.122.48': 306}\n"
     ]
    }
   ],
   "source": [
    "most_common_failed_login_ip = dict(itertools.islice(failed_login_ip_dict.items(), 10))\n",
    "print(most_common_failed_login_ip)"
   ]
  },
  {
   "cell_type": "code",
   "execution_count": null,
   "metadata": {
    "colab": {
     "base_uri": "https://localhost:8080/",
     "height": 295
    },
    "id": "jNfZpWplPJJw",
    "outputId": "d09b35ef-dc7f-47b3-8c35-51337b1a8ebe"
   },
   "outputs": [
    {
     "data": {
      "image/png": "[encoded data removed]",
      "text/plain": [
       "<Figure size 432x288 with 1 Axes>"
      ]
     },
     "metadata": {
      "needs_background": "light",
      "tags": []
     },
     "output_type": "display_data"
    }
   ],
   "source": [
    "plt.barh(list(most_common_failed_login_ip.keys()), list(most_common_failed_login_ip.values()), color = 'red')\n",
    "plt.xlabel('Intentos')\n",
    "plt.ylabel('IP address')\n",
    "plt.title('Las 10 IPs más comunes por login fallidos')\n",
    "plt.show()"
   ]
  },
  {
   "cell_type": "markdown",
   "metadata": {
    "id": "_IE0zgbMLZ3g"
   },
   "source": [
    "### 11. Direcciones IP que intentaron iniciar sesión para un usuario no válido"
   ]
  },
  {
   "cell_type": "code",
   "execution_count": 19,
   "metadata": {
    "colab": {
     "base_uri": "https://localhost:8080/"
    },
    "id": "ZB_P5VSrLZ3g",
    "outputId": "b78709b2-9538-4d14-9aa8-843bb08c75cc"
   },
   "outputs": [
    {
     "name": "stdout",
     "output_type": "stream",
     "text": [
      "Número de inicios de sesión fallidos:  14478\n",
      "Número de IPs distintas que intentaron acceder con un usuario no válido:  28\n",
      "219.150.161.20\n",
      "8.12.45.242\n",
      "222.66.204.246\n",
      "124.207.117.9\n",
      "222.169.224.197\n",
      "217.15.55.133\n",
      "211.154.254.248\n",
      "65.208.122.48\n",
      "122.226.202.12\n",
      "124.51.108.68\n",
      "24.192.113.91\n",
      "210.68.70.170\n",
      "173.9.147.165\n",
      "125.235.4.130\n",
      "116.6.19.70\n",
      "201.64.234.2\n",
      "114.80.166.219\n",
      "61.168.227.12\n",
      "58.17.30.49\n",
      "59.46.39.148\n",
      "121.11.66.70\n",
      "218.56.61.114\n",
      "122.165.9.200\n",
      "24.94.90.96\n",
      "220.170.79.247\n",
      "83.216.63.124\n",
      "203.81.226.86\n",
      "190.166.87.164\n"
     ]
    }
   ],
   "source": [
    "failed_session  = log_rdd.filter(lambda x: (\"Invalid user\") in x)\n",
    "\n",
    "failed_session.take(5)\n",
    "failed_ip = failed_session.map(lambda x: x.split(\"from \")[1])\n",
    "print(\"Número de inicios de sesión fallidos: \", failed_session.count() )\n",
    "failed_session_list = failed_ip.collect()\n",
    "failed_session_ip_dict = Counter(failed_session_list)\n",
    "failed_session_ip_dict = dict(sorted(failed_session_ip_dict.items(), key=operator.itemgetter(1),reverse=True)) # descending sort by value\n",
    "print(\"Número de IPs distintas que intentaron acceder con un usuario no válido: \", len(failed_session_ip_dict.items()))\n",
    "a = [i for i in failed_session_ip_dict]\n",
    "print(*a, sep = \"\\n\")"
   ]
  },
  {
   "cell_type": "code",
   "execution_count": 21,
   "metadata": {
    "colab": {
     "base_uri": "https://localhost:8080/"
    },
    "id": "Ptqzxo7R_Bz2",
    "outputId": "6193de52-3d59-4196-9dff-bd3d3137d2fc"
   },
   "outputs": [
    {
     "name": "stdout",
     "output_type": "stream",
     "text": [
      "{'219.150.161.20': 7574, '8.12.45.242': 2842, '222.66.204.246': 1063, '124.207.117.9': 522, '222.169.224.197': 457, '217.15.55.133': 382, '211.154.254.248': 345, '65.208.122.48': 300, '122.226.202.12': 185, '124.51.108.68': 154}\n"
     ]
    }
   ],
   "source": [
    "most_common_no_valid_user_ip = dict(itertools.islice(failed_session_ip_dict.items(), 10))\n",
    "print(most_common_no_valid_user_ip)"
   ]
  },
  {
   "cell_type": "code",
   "execution_count": 22,
   "metadata": {
    "colab": {
     "base_uri": "https://localhost:8080/",
     "height": 295
    },
    "id": "tGT_asHf-s--",
    "outputId": "1dea3371-821b-4401-8f90-2292f5b7c31e"
   },
   "outputs": [
    {
     "data": {
      "image/png": "[encoded data removed]",
      "text/plain": [
       "<Figure size 432x288 with 1 Axes>"
      ]
     },
     "metadata": {
      "needs_background": "light",
      "tags": []
     },
     "output_type": "display_data"
    }
   ],
   "source": [
    "plt.barh(list(most_common_no_valid_user_ip.keys()), list(most_common_no_valid_user_ip.values()), color = 'red')\n",
    "plt.xlabel('Intentos')\n",
    "plt.ylabel('IP address')\n",
    "plt.title('Las 10 direcciones IP más comúnes para intentos de login con usuarios no válidos')\n",
    "plt.show()"
   ]
  },
  {
   "cell_type": "markdown",
   "metadata": {
    "id": "gkkDhsu0LZ3g"
   },
   "source": [
    "### 12. Ubicación de las direcciones IP que intentaron iniciar sesión con un usuario no válido"
   ]
  },
  {
   "cell_type": "code",
   "execution_count": null,
   "metadata": {
    "colab": {
     "base_uri": "https://localhost:8080/"
    },
    "id": "LgexluJxLZ3g",
    "outputId": "1181744c-ad26-41c7-f524-ee5174b15d4a"
   },
   "outputs": [
    {
     "data": {
      "text/plain": [
       "[{'{\"status\":\"success\",\"country\":\"China\",\"countryCode\":\"CN\",\"region\":\"HA\",\"regionName\":\"Henan\",\"city\":\"Yingchuan\",\"zip\":\"\",\"lat\":34.2904,\"lon\":113.382,\"timezone\":\"Asia/Shanghai\",\"isp\":\"Chinanet\",\"org\":\"Chinanet HA\",\"as\":\"AS4134 CHINANET-BACKBONE\",\"query\":\"219.150.161.20\"}'},\n",
       " {'{\"status\":\"success\",\"country\":\"United States\",\"countryCode\":\"US\",\"region\":\"CA\",\"regionName\":\"California\",\"city\":\"San Francisco\",\"zip\":\"94111\",\"lat\":37.7952,\"lon\":-122.404,\"timezone\":\"America/Los_Angeles\",\"isp\":\"Joyent, Inc\",\"org\":\"Level 3\",\"as\":\"AS26464 Joyent, Inc.\",\"query\":\"8.12.45.242\"}'},\n",
       " {'{\"status\":\"success\",\"country\":\"China\",\"countryCode\":\"CN\",\"region\":\"SH\",\"regionName\":\"Shanghai\",\"city\":\"Shanghai\",\"zip\":\"\",\"lat\":31.0449,\"lon\":121.4012,\"timezone\":\"Asia/Shanghai\",\"isp\":\"China Telecom (Group)\",\"org\":\"Jiashang Yingke Metal (Shanghai) Co., Ltd.\",\"as\":\"AS4812 China Telecom (Group)\",\"query\":\"222.66.204.246\"}'},\n",
       " {'{\"status\":\"success\",\"country\":\"China\",\"countryCode\":\"CN\",\"region\":\"BJ\",\"regionName\":\"Beijing\",\"city\":\"Beigong\",\"zip\":\"\",\"lat\":40.2481,\"lon\":117.0459,\"timezone\":\"Asia/Shanghai\",\"isp\":\"China Unicom Beijing Province Network\",\"org\":\"Beijing Teletron Telecom Engineering Co., Ltd.\",\"as\":\"AS4808 China Unicom Beijing Province Network\",\"query\":\"124.207.117.9\"}'},\n",
       " {'{\"status\":\"success\",\"country\":\"China\",\"countryCode\":\"CN\",\"region\":\"JL\",\"regionName\":\"Jilin\",\"city\":\"Huadian\",\"zip\":\"\",\"lat\":43.152,\"lon\":126.437,\"timezone\":\"Asia/Shanghai\",\"isp\":\"Chinanet\",\"org\":\"Chinanet JL\",\"as\":\"AS4134 CHINANET-BACKBONE\",\"query\":\"222.169.224.197\"}'},\n",
       " {'{\"status\":\"success\",\"country\":\"Russia\",\"countryCode\":\"RU\",\"region\":\"MOS\",\"regionName\":\"Moscow Oblast\",\"city\":\"Khimki\",\"zip\":\"141410\",\"lat\":55.9488,\"lon\":37.3436,\"timezone\":\"Europe/Moscow\",\"isp\":\"PJSC Rostelecom\",\"org\":\"PJSC Rostelecom\",\"as\":\"AS25531 PJSC Rostelecom\",\"query\":\"217.15.55.133\"}'},\n",
       " {'{\"status\":\"success\",\"country\":\"China\",\"countryCode\":\"CN\",\"region\":\"BJ\",\"regionName\":\"Beijing\",\"city\":\"Beijing\",\"zip\":\"\",\"lat\":39.9288,\"lon\":116.3889,\"timezone\":\"Asia/Shanghai\",\"isp\":\"China Unicom Beijing Province Network\",\"org\":\"China Netcom(GROUP) Company Limited\",\"as\":\"AS4808 China Unicom Beijing Province Network\",\"query\":\"211.154.254.248\"}'},\n",
       " {'{\"status\":\"success\",\"country\":\"United States\",\"countryCode\":\"US\",\"region\":\"FL\",\"regionName\":\"Florida\",\"city\":\"Pompano Beach\",\"zip\":\"33060\",\"lat\":26.2227,\"lon\":-80.1449,\"timezone\":\"America/New_York\",\"isp\":\"Verizon Communications\",\"org\":\"UTS\",\"as\":\"AS11081\",\"query\":\"65.208.122.48\"}'},\n",
       " {'{\"status\":\"success\",\"country\":\"China\",\"countryCode\":\"CN\",\"region\":\"BJ\",\"regionName\":\"Beijing\",\"city\":\"Haidian\",\"zip\":\"\",\"lat\":39.96,\"lon\":116.298,\"timezone\":\"Asia/Shanghai\",\"isp\":\"JINHUA, ZHEJIANG Province, P.R.China.\",\"org\":\"Jinhua Telecom Co., ltd\",\"as\":\"AS136190 JINHUA, ZHEJIANG Province, P.R.China.\",\"query\":\"122.226.202.12\"}'},\n",
       " {'{\"status\":\"success\",\"country\":\"South Korea\",\"countryCode\":\"KR\",\"region\":\"11\",\"regionName\":\"Seoul\",\"city\":\"Seoul\",\"zip\":\"02878\",\"lat\":37.5985,\"lon\":126.9783,\"timezone\":\"Asia/Seoul\",\"isp\":\"LG POWERCOMM\",\"org\":\"Xpeed\",\"as\":\"AS17858 LG POWERCOMM\",\"query\":\"124.51.108.68\"}'},\n",
       " {'{\"status\":\"success\",\"country\":\"United States\",\"countryCode\":\"US\",\"region\":\"MI\",\"regionName\":\"Michigan\",\"city\":\"Clinton Township\",\"zip\":\"48035\",\"lat\":42.5538,\"lon\":-82.9185,\"timezone\":\"America/Detroit\",\"isp\":\"WideOpenWest Finance LLC\",\"org\":\"Wide Open West\",\"as\":\"AS12083 WideOpenWest Finance LLC\",\"query\":\"24.192.113.91\"}'},\n",
       " {'{\"status\":\"success\",\"country\":\"Taiwan\",\"countryCode\":\"TW\",\"region\":\"\",\"regionName\":\"Taiwan\",\"city\":\"Taipei\",\"zip\":\"\",\"lat\":25.033,\"lon\":121.565,\"timezone\":\"Asia/Taipei\",\"isp\":\"Digital United Inc.\",\"org\":\"Digital United Inc.\",\"as\":\"AS4780 Digital United Inc.\",\"query\":\"210.68.70.170\"}'},\n",
       " {'{\"status\":\"success\",\"country\":\"United States\",\"countryCode\":\"US\",\"region\":\"FL\",\"regionName\":\"Florida\",\"city\":\"West Palm Beach\",\"zip\":\"33415\",\"lat\":26.6543,\"lon\":-80.1256,\"timezone\":\"America/New_York\",\"isp\":\"COMCAST-20214 - Comcast Cable Communications, LLC\",\"org\":\"Comcast Business Communications, LLC\",\"as\":\"AS7922 Comcast Cable Communications, LLC\",\"query\":\"173.9.147.165\"}'},\n",
       " {'{\"status\":\"success\",\"country\":\"Vietnam\",\"countryCode\":\"VN\",\"region\":\"HN\",\"regionName\":\"Hanoi\",\"city\":\"Hanoi\",\"zip\":\"\",\"lat\":21.0278,\"lon\":105.834,\"timezone\":\"Asia/Bangkok\",\"isp\":\"Viettel Corporation\",\"org\":\"xDSL Services\",\"as\":\"AS7552 Viettel Group\",\"query\":\"125.235.4.130\"}'},\n",
       " {'{\"status\":\"success\",\"country\":\"China\",\"countryCode\":\"CN\",\"region\":\"BJ\",\"regionName\":\"Beijing\",\"city\":\"Fengtai\",\"zip\":\"\",\"lat\":39.8528,\"lon\":116.388,\"timezone\":\"Asia/Shanghai\",\"isp\":\"Chinanet Guangdong Province Network\",\"org\":\"\",\"as\":\"AS4809 China Telecom Next Generation Carrier Network\",\"query\":\"116.6.19.70\"}'},\n",
       " {'{\"status\":\"success\",\"country\":\"Brazil\",\"countryCode\":\"BR\",\"region\":\"SP\",\"regionName\":\"Sao Paulo\",\"city\":\"São Paulo\",\"zip\":\"01000-000\",\"lat\":-23.5505,\"lon\":-46.6333,\"timezone\":\"America/Sao_Paulo\",\"isp\":\"Claro S.A.\",\"org\":\"Claro S.A\",\"as\":\"AS4230 CLARO S.A.\",\"query\":\"201.64.234.2\"}'},\n",
       " {'{\"status\":\"success\",\"country\":\"China\",\"countryCode\":\"CN\",\"region\":\"SH\",\"regionName\":\"Shanghai\",\"city\":\"Shanghai\",\"zip\":\"\",\"lat\":31.2304,\"lon\":121.474,\"timezone\":\"Asia/Shanghai\",\"isp\":\"China Telecom (Group)\",\"org\":\"Chinanet SH\",\"as\":\"AS4812 China Telecom (Group)\",\"query\":\"114.80.166.219\"}'},\n",
       " {'{\"status\":\"success\",\"country\":\"China\",\"countryCode\":\"CN\",\"region\":\"HA\",\"regionName\":\"Henan\",\"city\":\"luohe shi\",\"zip\":\"\",\"lat\":33.4408,\"lon\":113.608,\"timezone\":\"Asia/Shanghai\",\"isp\":\"CNC Group CHINA169 Henan Province Network\",\"org\":\"\",\"as\":\"AS4837 CHINA UNICOM China169 Backbone\",\"query\":\"61.168.227.12\"}'},\n",
       " {'{\"status\":\"success\",\"country\":\"China\",\"countryCode\":\"CN\",\"region\":\"JX\",\"regionName\":\"Jiangxi\",\"city\":\"Baikou\",\"zip\":\"\",\"lat\":26.8418,\"lon\":114.1172,\"timezone\":\"Asia/Shanghai\",\"isp\":\"CNC Group CHINA169 Jiangxi Province Network\",\"org\":\"\",\"as\":\"AS4837 CHINA UNICOM China169 Backbone\",\"query\":\"58.17.30.49\"}'},\n",
       " {'{\"status\":\"success\",\"country\":\"China\",\"countryCode\":\"CN\",\"region\":\"LN\",\"regionName\":\"Liaoning\",\"city\":\"Shenyang\",\"zip\":\"\",\"lat\":41.7806,\"lon\":123.4312,\"timezone\":\"Asia/Shanghai\",\"isp\":\"Chinanet\",\"org\":\"ShenYangShiDianHuaJiaoYuGuan\",\"as\":\"AS4134 CHINANET-BACKBONE\",\"query\":\"59.46.39.148\"}'},\n",
       " {'{\"status\":\"success\",\"country\":\"China\",\"countryCode\":\"CN\",\"region\":\"GD\",\"regionName\":\"Guangdong\",\"city\":\"Guangzhou\",\"zip\":\"\",\"lat\":23.1285,\"lon\":113.267,\"timezone\":\"Asia/Shanghai\",\"isp\":\"Guangdong Network of ChinaTelecom\",\"org\":\"\",\"as\":\"AS58543 Guangdong\",\"query\":\"121.11.66.70\"}'},\n",
       " {'{\"status\":\"success\",\"country\":\"China\",\"countryCode\":\"CN\",\"region\":\"SD\",\"regionName\":\"Shandong\",\"city\":\"Yantai\",\"zip\":\"\",\"lat\":37.5333,\"lon\":121.4,\"timezone\":\"Asia/Shanghai\",\"isp\":\"CNC Group CHINA169 Shandong Province Network\",\"org\":\"Shandong Province Taihuadianxun Company\",\"as\":\"AS4837 CHINA UNICOM China169 Backbone\",\"query\":\"218.56.61.114\"}'},\n",
       " {'{\"status\":\"success\",\"country\":\"India\",\"countryCode\":\"IN\",\"region\":\"TN\",\"regionName\":\"Tamil Nadu\",\"city\":\"Chennai\",\"zip\":\"600001\",\"lat\":13.0878,\"lon\":80.2785,\"timezone\":\"Asia/Kolkata\",\"isp\":\"BHARTI\",\"org\":\"ABTS Tamilnadu\",\"as\":\"AS24560 Bharti Airtel Ltd., Telemedia Services\",\"query\":\"122.165.9.200\"}'},\n",
       " {'{\"status\":\"success\",\"country\":\"United States\",\"countryCode\":\"US\",\"region\":\"CA\",\"regionName\":\"California\",\"city\":\"Brawley\",\"zip\":\"92227\",\"lat\":32.9761,\"lon\":-115.5291,\"timezone\":\"America/Los_Angeles\",\"isp\":\"Charter Communications Inc\",\"org\":\"Spectrum\",\"as\":\"AS20001 Charter Communications Inc\",\"query\":\"24.94.90.96\"}'},\n",
       " {'{\"status\":\"success\",\"country\":\"China\",\"countryCode\":\"CN\",\"region\":\"HN\",\"regionName\":\"Hunan\",\"city\":\"Hengyang Shi\",\"zip\":\"\",\"lat\":26.8963,\"lon\":112.609,\"timezone\":\"Asia/Shanghai\",\"isp\":\"Chinanet\",\"org\":\"\",\"as\":\"AS4134 CHINANET-BACKBONE\",\"query\":\"220.170.79.247\"}'},\n",
       " {'{\"status\":\"success\",\"country\":\"Italy\",\"countryCode\":\"IT\",\"region\":\"25\",\"regionName\":\"Lombardy\",\"city\":\"Milan\",\"zip\":\"20121\",\"lat\":45.47,\"lon\":9.18264,\"timezone\":\"Europe/Rome\",\"isp\":\"Mass Response Service GmbH\",\"org\":\"Mass Response Service GmbH\",\"as\":\"AS51265 Mass Response Service GmbH\",\"query\":\"83.216.63.124\"}'},\n",
       " {'{\"status\":\"success\",\"country\":\"Pakistan\",\"countryCode\":\"PK\",\"region\":\"PB\",\"regionName\":\"Punjab\",\"city\":\"Lahore\",\"zip\":\"54000\",\"lat\":31.5236,\"lon\":74.3514,\"timezone\":\"Asia/Karachi\",\"isp\":\"Worldcall Multimedia Limited\",\"org\":\"South Corporate P2P\",\"as\":\"AS38616 Worldcall Telecom Limited\",\"query\":\"203.81.226.86\"}'},\n",
       " {'{\"status\":\"success\",\"country\":\"Dominican Republic\",\"countryCode\":\"DO\",\"region\":\"32\",\"regionName\":\"Provincia de Santo Domingo\",\"city\":\"Santo Domingo Este\",\"zip\":\"10201\",\"lat\":18.4667,\"lon\":-69.9,\"timezone\":\"America/Santo_Domingo\",\"isp\":\"CompaÃ±Ã\\xada Dominicana de TelÃ©fonos S. A.\",\"org\":\"Compañía Dominicana de Teléfonos S. A\",\"as\":\"AS6400 Compañía Dominicana de Teléfonos S. A.\",\"query\":\"190.166.87.164\"}'}]"
      ]
     },
     "execution_count": 13,
     "metadata": {
      "tags": []
     },
     "output_type": "execute_result"
    }
   ],
   "source": [
    "url = \"https://demo.ip-api.com/json/116.6.19.70\"\n",
    "location = map(lambda x: {\n",
    "    requests.request(\"GET\", \"https://demo.ip-api.com/json/\"+x, headers={'Origin': \"https://ip-api.com\"}).text\n",
    "    },failed_session_ip_dict)\n",
    "\n",
    "locations = list(location)\n",
    "#print(*list(location),  sep = \"\\n\")\n",
    "locations"
   ]
  },
  {
   "cell_type": "code",
   "execution_count": null,
   "metadata": {
    "colab": {
     "base_uri": "https://localhost:8080/"
    },
    "id": "Uv42qS5eD04_",
    "outputId": "373bcf20-0519-4fee-bf47-a229789f6b46"
   },
   "outputs": [
    {
     "name": "stdout",
     "output_type": "stream",
     "text": [
      "['China', 'United States', 'China', 'China', 'China', 'Russia', 'China', 'United States', 'China', 'South Korea', 'United States', 'Taiwan', 'United States', 'Vietnam', 'China', 'Brazil', 'China', 'China', 'China', 'China', 'China', 'China', 'India', 'United States', 'China', 'Italy', 'Pakistan', 'Dominican Republic']\n"
     ]
    }
   ],
   "source": [
    "countries = []\n",
    "for response in locations:\n",
    "  line = str(response)\n",
    "  country = line.split('\"country')[1]\n",
    "  countries.append(re.sub(r'[^\\w\\s]','', country))\n",
    "print(countries)"
   ]
  },
  {
   "cell_type": "code",
   "execution_count": null,
   "metadata": {
    "colab": {
     "base_uri": "https://localhost:8080/"
    },
    "id": "4AhQc78tEqqg",
    "outputId": "fe93689d-c8de-414e-ccc6-dbf57d230247"
   },
   "outputs": [
    {
     "data": {
      "text/plain": [
       "Counter({'Brazil': 1,\n",
       "         'China': 14,\n",
       "         'Dominican Republic': 1,\n",
       "         'India': 1,\n",
       "         'Italy': 1,\n",
       "         'Pakistan': 1,\n",
       "         'Russia': 1,\n",
       "         'South Korea': 1,\n",
       "         'Taiwan': 1,\n",
       "         'United States': 5,\n",
       "         'Vietnam': 1})"
      ]
     },
     "execution_count": 15,
     "metadata": {
      "tags": []
     },
     "output_type": "execute_result"
    }
   ],
   "source": [
    "countries_dict = Counter(countries)\n",
    "countries_dict"
   ]
  },
  {
   "cell_type": "code",
   "execution_count": null,
   "metadata": {
    "colab": {
     "base_uri": "https://localhost:8080/"
    },
    "id": "aq4jnPm9_uFU",
    "outputId": "f8b9669a-0e5c-49f2-d172-94a51d08f500"
   },
   "outputs": [
    {
     "name": "stdout",
     "output_type": "stream",
     "text": [
      "['CN', 'US', 'CN', 'CN', 'CN', 'RU', 'CN', 'US', 'CN', 'KR', 'US', 'TW', 'US', 'VN', 'CN', 'BR', 'CN', 'CN', 'CN', 'CN', 'CN', 'CN', 'IN', 'US', 'CN', 'IT', 'PK', 'DO']\n"
     ]
    }
   ],
   "source": [
    "countries_code = []\n",
    "for response in locations:\n",
    "  line = str(response)\n",
    "  country = line.split('\"countryCode')[1].split('region')[0]\n",
    "  countries_code.append(re.sub(r'[^\\w\\s]','', country))\n",
    "print(countries_code)"
   ]
  },
  {
   "cell_type": "code",
   "execution_count": null,
   "metadata": {
    "colab": {
     "base_uri": "https://localhost:8080/"
    },
    "id": "6dcE9Yul_6rC",
    "outputId": "a453deba-d14e-44c4-bf33-31945b2a6962"
   },
   "outputs": [
    {
     "data": {
      "text/plain": [
       "Counter({'br': 1,\n",
       "         'cn': 14,\n",
       "         'do': 1,\n",
       "         'in': 1,\n",
       "         'it': 1,\n",
       "         'kr': 1,\n",
       "         'pk': 1,\n",
       "         'ru': 1,\n",
       "         'tw': 1,\n",
       "         'us': 5,\n",
       "         'vn': 1})"
      ]
     },
     "execution_count": 17,
     "metadata": {
      "tags": []
     },
     "output_type": "execute_result"
    }
   ],
   "source": [
    "countries_code = map(str.lower, countries_code)\n",
    "countries_code_dict = Counter(countries_code)\n",
    "countries_code_dict"
   ]
  },
  {
   "cell_type": "code",
   "execution_count": null,
   "metadata": {
    "id": "AP3R6WqxAcj-"
   },
   "outputs": [],
   "source": [
    "worldmap_chart = World()\n",
    "worldmap_chart.title = 'IP locations for not valid user login attempts'\n",
    "worldmap_chart.add('Number of IP addresses', countries_code_dict)\n",
    "worldmap_chart.render_to_file('map.svg')"
   ]
  },
  {
   "cell_type": "markdown",
   "metadata": {
    "id": "1w84Q5YtGPJ1"
   },
   "source": [
    "*Open generated interactive image from Files: map.svg*"
   ]
  },
  {
   "cell_type": "code",
   "execution_count": null,
   "metadata": {
    "colab": {
     "base_uri": "https://localhost:8080/",
     "height": 636
    },
    "id": "025cW5bmJs9w",
    "outputId": "1a30d30a-98c9-451f-cc2e-fd5c4bf8a1a1"
   },
   "outputs": [
    {
     "name": "stderr",
     "output_type": "stream",
     "text": [
      "/usr/local/lib/python3.6/dist-packages/geopy/geocoders/osm.py:143: UserWarning: Using Nominatim with the default \"geopy/1.17.0\" `user_agent` is strongly discouraged, as it violates Nominatim's ToS https://operations.osmfoundation.org/policies/nominatim/ and may possibly cause 403 and 429 HTTP errors. Please specify a custom `user_agent` with `Nominatim(user_agent=\"my-application\")` or by overriding the default `user_agent`: `geopy.geocoders.options.default_user_agent = \"my-application\"`. In geopy 2.0 this will become an exception.\n",
      "  UserWarning\n"
     ]
    },
    {
     "data": {
      "text/html": [
       "<div style=\"width:100%;\"><div style=\"position:relative;width:100%;height:0;padding-bottom:60%;\"><span style=\"color:#565656\">Make this Notebook Trusted to load map: File -> Trust Notebook</span><iframe src=\"about:blank\" style=\"position:absolute;width:100%;height:100%;left:0;top:0;border:none !important;\" data-html=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 onload=\"this.contentDocument.open();this.contentDocument.write(atob(this.getAttribute('data-html')));this.contentDocument.close();\" allowfullscreen webkitallowfullscreen mozallowfullscreen></iframe></div></div>"
      ],
      "text/plain": [
       "<folium.folium.Map at 0x7fb1b7ade1d0>"
      ]
     },
     "execution_count": 33,
     "metadata": {
      "tags": []
     },
     "output_type": "execute_result"
    }
   ],
   "source": [
    "import json\n",
    "geolocator = Nominatim()\n",
    "locs = [geolocator.geocode(location) for location in countries_dict]\n",
    "world_map= folium.Map(tiles=\"cartodbpositron\")\n",
    "marker_cluster = MarkerCluster().add_to(world_map)\n",
    "for loc in locs:\n",
    "  a = str(loc)\n",
    "  folium.CircleMarker(location = [loc.latitude, loc.longitude], radius=5, popup= a, fill =True).add_to(marker_cluster)\n",
    "world_map"
   ]
  }
 ],
 "metadata": {
  "colab": {
   "collapsed_sections": [],
   "name": "analisis_log_spark.ipynb",
   "provenance": [],
   "toc_visible": true
  },
  "kernelspec": {
   "display_name": "Python 3",
   "language": "python",
   "name": "python3"
  },
  "language_info": {
   "codemirror_mode": {
    "name": "ipython",
    "version": 3
   },
   "file_extension": ".py",
   "mimetype": "text/x-python",
   "name": "python",
   "nbconvert_exporter": "python",
   "pygments_lexer": "ipython3",
   "version": "3.8.3"
  }
 },
 "nbformat": 4,
 "nbformat_minor": 1
}
