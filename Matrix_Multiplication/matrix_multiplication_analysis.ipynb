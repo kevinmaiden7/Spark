{
 "cells": [
  {
   "cell_type": "code",
   "execution_count": 1,
   "metadata": {},
   "outputs": [],
   "source": [
    "import findspark\n",
    "#findspark.init(spark_path)\n",
    "findspark.init()\n",
    "\n",
    "from pyspark.sql import SparkSession, SQLContext\n",
    "from pyspark import SparkContext, SparkConf"
   ]
  },
  {
   "cell_type": "code",
   "execution_count": 2,
   "metadata": {},
   "outputs": [],
   "source": [
    "environment_to_connect = 'local' # CHANGE IT IF CONNECTION TO A CLUSTER\n",
    "\n",
    "conf = SparkConf().setAppName('matrix_multiplication_analysis').setMaster(environment_to_connect)\n",
    "sc = SparkContext(conf=conf)\n",
    "spark = SQLContext(sc)"
   ]
  },
  {
   "cell_type": "code",
   "execution_count": 3,
   "metadata": {},
   "outputs": [],
   "source": [
    "# Some other useful imports\n",
    "import numpy as np"
   ]
  },
  {
   "cell_type": "markdown",
   "metadata": {},
   "source": [
    "### Upload files with Spark"
   ]
  },
  {
   "cell_type": "markdown",
   "metadata": {},
   "source": [
    "#### Matrix A"
   ]
  },
  {
   "cell_type": "code",
   "execution_count": 4,
   "metadata": {},
   "outputs": [],
   "source": [
    "num_partitions_matrix_A = 1"
   ]
  },
  {
   "cell_type": "code",
   "execution_count": 5,
   "metadata": {},
   "outputs": [
    {
     "data": {
      "text/plain": [
       "Matriz_Ejemplo_A.dat MapPartitionsRDD[1] at textFile at <unknown>:0"
      ]
     },
     "execution_count": 5,
     "metadata": {},
     "output_type": "execute_result"
    }
   ],
   "source": [
    "matrix_A = sc.textFile('Matriz_Ejemplo_A.dat', num_partitions_matrix_A)\n",
    "matrix_A"
   ]
  },
  {
   "cell_type": "code",
   "execution_count": 6,
   "metadata": {},
   "outputs": [
    {
     "data": {
      "text/plain": [
       "1000"
      ]
     },
     "execution_count": 6,
     "metadata": {},
     "output_type": "execute_result"
    }
   ],
   "source": [
    "matrix_A_rows = matrix_A.count()\n",
    "matrix_A_rows"
   ]
  },
  {
   "cell_type": "code",
   "execution_count": 7,
   "metadata": {},
   "outputs": [
    {
     "data": {
      "text/plain": [
       "1"
      ]
     },
     "execution_count": 7,
     "metadata": {},
     "output_type": "execute_result"
    }
   ],
   "source": [
    "matrix_A.getNumPartitions()"
   ]
  },
  {
   "cell_type": "code",
   "execution_count": null,
   "metadata": {},
   "outputs": [],
   "source": [
    "matrix_A.take(2)"
   ]
  },
  {
   "cell_type": "code",
   "execution_count": null,
   "metadata": {},
   "outputs": [],
   "source": [
    "type(matrix_A.take(1)[0])"
   ]
  },
  {
   "cell_type": "code",
   "execution_count": 7,
   "metadata": {},
   "outputs": [
    {
     "data": {
      "text/plain": [
       "PythonRDD[3] at RDD at PythonRDD.scala:53"
      ]
     },
     "execution_count": 7,
     "metadata": {},
     "output_type": "execute_result"
    }
   ],
   "source": [
    "matrix_A = matrix_A.map( lambda line: list(map(float, line.split(' '))) ) # Tokenize values and convert them into float\n",
    "matrix_A"
   ]
  },
  {
   "cell_type": "code",
   "execution_count": 8,
   "metadata": {},
   "outputs": [
    {
     "name": "stdout",
     "output_type": "stream",
     "text": [
      "[4.1287, 2.2078, 8.4434, -0.40286, 2.4057] 128\n",
      "[1.9492, -1.1705, 2.2879, 6.0707, 3.211] 128\n",
      "[3.9418, -2.5248, 4.3379, 5.7163, 8.6705] 128\n"
     ]
    },
    {
     "data": {
      "text/plain": [
       "128"
      ]
     },
     "execution_count": 8,
     "metadata": {},
     "output_type": "execute_result"
    }
   ],
   "source": [
    "print(matrix_A.take(3)[0][:5], len(matrix_A.take(3)[0]))\n",
    "print(matrix_A.take(3)[1][:5], len(matrix_A.take(3)[1]))\n",
    "print(matrix_A.take(3)[2][:5], len(matrix_A.take(3)[2]))\n",
    "matrix_A_columns = len(matrix_A.take(3)[0])\n",
    "matrix_A_columns"
   ]
  },
  {
   "cell_type": "code",
   "execution_count": 9,
   "metadata": {},
   "outputs": [
    {
     "name": "stdout",
     "output_type": "stream",
     "text": [
      "Rows: 1000 Columns: 128\n"
     ]
    }
   ],
   "source": [
    "print('Rows: ' + str(matrix_A_rows), 'Columns: ' + str(matrix_A_columns))"
   ]
  },
  {
   "cell_type": "markdown",
   "metadata": {},
   "source": [
    "#### Matrix B"
   ]
  },
  {
   "cell_type": "code",
   "execution_count": 10,
   "metadata": {},
   "outputs": [],
   "source": [
    "num_partitions_matrix_B = 1"
   ]
  },
  {
   "cell_type": "code",
   "execution_count": 11,
   "metadata": {},
   "outputs": [
    {
     "data": {
      "text/plain": [
       "Matriz_Ejemplo_B.dat MapPartitionsRDD[12] at textFile at <unknown>:0"
      ]
     },
     "execution_count": 11,
     "metadata": {},
     "output_type": "execute_result"
    }
   ],
   "source": [
    "matrix_B = sc.textFile('Matriz_Ejemplo_B.dat', num_partitions_matrix_B)\n",
    "matrix_B"
   ]
  },
  {
   "cell_type": "code",
   "execution_count": 12,
   "metadata": {},
   "outputs": [
    {
     "data": {
      "text/plain": [
       "128"
      ]
     },
     "execution_count": 12,
     "metadata": {},
     "output_type": "execute_result"
    }
   ],
   "source": [
    "matrix_B_rows = matrix_B.count()\n",
    "matrix_B_rows"
   ]
  },
  {
   "cell_type": "code",
   "execution_count": 14,
   "metadata": {},
   "outputs": [
    {
     "data": {
      "text/plain": [
       "1"
      ]
     },
     "execution_count": 14,
     "metadata": {},
     "output_type": "execute_result"
    }
   ],
   "source": [
    "matrix_B.getNumPartitions()"
   ]
  },
  {
   "cell_type": "code",
   "execution_count": null,
   "metadata": {},
   "outputs": [],
   "source": [
    "matrix_B.take(2)"
   ]
  },
  {
   "cell_type": "code",
   "execution_count": 13,
   "metadata": {},
   "outputs": [
    {
     "data": {
      "text/plain": [
       "PythonRDD[14] at RDD at PythonRDD.scala:53"
      ]
     },
     "execution_count": 13,
     "metadata": {},
     "output_type": "execute_result"
    }
   ],
   "source": [
    "matrix_B = matrix_B.map( lambda line: list(map(float, line.split(' '))) ) # Tokenize values and convert them into float\n",
    "matrix_B"
   ]
  },
  {
   "cell_type": "code",
   "execution_count": 14,
   "metadata": {},
   "outputs": [
    {
     "name": "stdout",
     "output_type": "stream",
     "text": [
      "[4.1588, 7.4706, 6.431, 8.8949, 6.1778] 60\n",
      "[4.779, 5.0498, 8.9186, 9.8314, 3.2737] 60\n",
      "[4.2157, 6.6605, 4.5704, 9.2966, 4.1862] 60\n"
     ]
    },
    {
     "data": {
      "text/plain": [
       "60"
      ]
     },
     "execution_count": 14,
     "metadata": {},
     "output_type": "execute_result"
    }
   ],
   "source": [
    "print(matrix_B.take(3)[0][:5], len(matrix_B.take(3)[0]))\n",
    "print(matrix_B.take(3)[1][:5], len(matrix_B.take(3)[1]))\n",
    "print(matrix_B.take(3)[2][:5], len(matrix_B.take(3)[2]))\n",
    "matrix_B_columns = len(matrix_B.take(3)[0])\n",
    "matrix_B_columns"
   ]
  },
  {
   "cell_type": "code",
   "execution_count": 15,
   "metadata": {},
   "outputs": [
    {
     "name": "stdout",
     "output_type": "stream",
     "text": [
      "Rows: 128 Columns: 60\n"
     ]
    }
   ],
   "source": [
    "print('Rows: ' + str(matrix_B_rows), 'Columns: ' + str(matrix_B_columns))"
   ]
  },
  {
   "cell_type": "markdown",
   "metadata": {},
   "source": [
    "#### Convert matrices to coordinates (sparse) format"
   ]
  },
  {
   "cell_type": "code",
   "execution_count": 16,
   "metadata": {},
   "outputs": [],
   "source": [
    "def convert_row(line, row): # i : row number\n",
    "    coo_row = []\n",
    "    for j in range(len(line)):\n",
    "        value = line[j]\n",
    "        if value != 0: coo_row.append((row,j,value))\n",
    "    return(coo_row)"
   ]
  },
  {
   "cell_type": "code",
   "execution_count": 17,
   "metadata": {},
   "outputs": [],
   "source": [
    "matrix_A_list = matrix_A.collect()\n",
    "matrix_B_list = matrix_B.collect()"
   ]
  },
  {
   "cell_type": "code",
   "execution_count": 18,
   "metadata": {},
   "outputs": [],
   "source": [
    "get_coo_matrix = (lambda matrix_list: [(convert_row(matrix_list[index], index)) for index in range(len(matrix_list))])"
   ]
  },
  {
   "cell_type": "code",
   "execution_count": 19,
   "metadata": {},
   "outputs": [],
   "source": [
    "coo_matrix_A = get_coo_matrix(matrix_A_list)\n",
    "coo_matrix_B = get_coo_matrix(matrix_B_list)"
   ]
  },
  {
   "cell_type": "code",
   "execution_count": 20,
   "metadata": {},
   "outputs": [
    {
     "data": {
      "text/plain": [
       "ParallelCollectionRDD[22] at parallelize at PythonRDD.scala:195"
      ]
     },
     "execution_count": 20,
     "metadata": {},
     "output_type": "execute_result"
    }
   ],
   "source": [
    "coo_matrix_A = sc.parallelize(coo_matrix_A, num_partitions_matrix_A)\n",
    "coo_matrix_A"
   ]
  },
  {
   "cell_type": "code",
   "execution_count": 21,
   "metadata": {},
   "outputs": [
    {
     "data": {
      "text/plain": [
       "ParallelCollectionRDD[23] at parallelize at PythonRDD.scala:195"
      ]
     },
     "execution_count": 21,
     "metadata": {},
     "output_type": "execute_result"
    }
   ],
   "source": [
    "coo_matrix_B = sc.parallelize(coo_matrix_B, num_partitions_matrix_B)\n",
    "coo_matrix_B"
   ]
  },
  {
   "cell_type": "code",
   "execution_count": 22,
   "metadata": {},
   "outputs": [
    {
     "data": {
      "text/plain": [
       "ParallelCollectionRDD[22] at parallelize at PythonRDD.scala:195"
      ]
     },
     "execution_count": 22,
     "metadata": {},
     "output_type": "execute_result"
    }
   ],
   "source": [
    "coo_matrix_A.cache() # save RDD in main memory"
   ]
  },
  {
   "cell_type": "code",
   "execution_count": 23,
   "metadata": {},
   "outputs": [
    {
     "data": {
      "text/plain": [
       "ParallelCollectionRDD[23] at parallelize at PythonRDD.scala:195"
      ]
     },
     "execution_count": 23,
     "metadata": {},
     "output_type": "execute_result"
    }
   ],
   "source": [
    "coo_matrix_B.cache() # save RDD in main memory"
   ]
  },
  {
   "cell_type": "code",
   "execution_count": 24,
   "metadata": {},
   "outputs": [
    {
     "name": "stdout",
     "output_type": "stream",
     "text": [
      "[(0, 0, 4.1287), (0, 1, 2.2078), (0, 2, 8.4434), (0, 3, -0.40286), (0, 4, 2.4057)]\n",
      "[(1, 0, 1.9492), (1, 1, -1.1705), (1, 2, 2.2879), (1, 3, 6.0707), (1, 4, 3.211)]\n"
     ]
    }
   ],
   "source": [
    "print(coo_matrix_A.take(2)[0][:5])\n",
    "print(coo_matrix_A.take(2)[1][:5])"
   ]
  },
  {
   "cell_type": "code",
   "execution_count": 25,
   "metadata": {},
   "outputs": [
    {
     "name": "stdout",
     "output_type": "stream",
     "text": [
      "[(0, 0, 4.1588), (0, 1, 7.4706), (0, 2, 6.431), (0, 3, 8.8949), (0, 4, 6.1778)]\n",
      "[(1, 0, 4.779), (1, 1, 5.0498), (1, 2, 8.9186), (1, 3, 9.8314), (1, 4, 3.2737)]\n"
     ]
    }
   ],
   "source": [
    "print(coo_matrix_B.take(2)[0][:5])\n",
    "print(coo_matrix_B.take(2)[1][:5])"
   ]
  },
  {
   "cell_type": "markdown",
   "metadata": {},
   "source": [
    "#### Perform Matrix Multiplication"
   ]
  },
  {
   "cell_type": "code",
   "execution_count": 26,
   "metadata": {},
   "outputs": [
    {
     "data": {
      "text/plain": [
       "PythonRDD[28] at RDD at PythonRDD.scala:53"
      ]
     },
     "execution_count": 26,
     "metadata": {},
     "output_type": "execute_result"
    }
   ],
   "source": [
    "first_map_matrix_A = coo_matrix_A.flatMap( lambda line: [(row[1], (row[0], row[2])) for row in line] )\n",
    "first_map_matrix_A"
   ]
  },
  {
   "cell_type": "code",
   "execution_count": 31,
   "metadata": {},
   "outputs": [
    {
     "data": {
      "text/plain": [
       "128000"
      ]
     },
     "execution_count": 31,
     "metadata": {},
     "output_type": "execute_result"
    }
   ],
   "source": [
    "first_map_matrix_A.count()"
   ]
  },
  {
   "cell_type": "code",
   "execution_count": 27,
   "metadata": {},
   "outputs": [
    {
     "data": {
      "text/plain": [
       "[(0, (0, 4.1287)),\n",
       " (1, (0, 2.2078)),\n",
       " (2, (0, 8.4434)),\n",
       " (3, (0, -0.40286)),\n",
       " (4, (0, 2.4057))]"
      ]
     },
     "execution_count": 27,
     "metadata": {},
     "output_type": "execute_result"
    }
   ],
   "source": [
    "first_map_matrix_A.take(5)"
   ]
  },
  {
   "cell_type": "code",
   "execution_count": 30,
   "metadata": {},
   "outputs": [
    {
     "data": {
      "text/plain": [
       "PythonRDD[32] at RDD at PythonRDD.scala:53"
      ]
     },
     "execution_count": 30,
     "metadata": {},
     "output_type": "execute_result"
    }
   ],
   "source": [
    "first_map_matrix_B = coo_matrix_B.flatMap( lambda line: [(row[0], (row[1], row[2])) for row in line] )\n",
    "first_map_matrix_B"
   ]
  },
  {
   "cell_type": "code",
   "execution_count": 31,
   "metadata": {},
   "outputs": [
    {
     "data": {
      "text/plain": [
       "7680"
      ]
     },
     "execution_count": 31,
     "metadata": {},
     "output_type": "execute_result"
    }
   ],
   "source": [
    "first_map_matrix_B.count()"
   ]
  },
  {
   "cell_type": "code",
   "execution_count": 32,
   "metadata": {},
   "outputs": [
    {
     "data": {
      "text/plain": [
       "[(0, (0, 4.1588)),\n",
       " (0, (1, 7.4706)),\n",
       " (0, (2, 6.431)),\n",
       " (0, (3, 8.8949)),\n",
       " (0, (4, 6.1778)),\n",
       " (0, (5, 8.7999)),\n",
       " (0, (6, 5.4387)),\n",
       " (0, (7, 4.1222)),\n",
       " (0, (8, 1.7036)),\n",
       " (0, (9, 6.6315)),\n",
       " (0, (10, 6.7626)),\n",
       " (0, (11, 4.2752)),\n",
       " (0, (12, 4.0949)),\n",
       " (0, (13, 6.2942)),\n",
       " (0, (14, 8.3809)),\n",
       " (0, (15, 6.9591)),\n",
       " (0, (16, 6.2074)),\n",
       " (0, (17, 4.9545)),\n",
       " (0, (18, 5.1017)),\n",
       " (0, (19, 3.7777)),\n",
       " (0, (20, 4.4296)),\n",
       " (0, (21, 5.2095)),\n",
       " (0, (22, 3.5372)),\n",
       " (0, (23, 4.5093)),\n",
       " (0, (24, 6.5367)),\n",
       " (0, (25, 3.088)),\n",
       " (0, (26, 4.2214)),\n",
       " (0, (27, 3.2965)),\n",
       " (0, (28, 6.8746)),\n",
       " (0, (29, 4.2818)),\n",
       " (0, (30, 5.6333)),\n",
       " (0, (31, 4.2198)),\n",
       " (0, (32, 6.0381)),\n",
       " (0, (33, 2.2611)),\n",
       " (0, (34, 6.887)),\n",
       " (0, (35, 5.4321)),\n",
       " (0, (36, 8.1058)),\n",
       " (0, (37, 5.6511)),\n",
       " (0, (38, 8.2948)),\n",
       " (0, (39, 7.068)),\n",
       " (0, (40, 3.8169)),\n",
       " (0, (41, 2.7906)),\n",
       " (0, (42, 4.9194)),\n",
       " (0, (43, 6.4473)),\n",
       " (0, (44, 4.1604)),\n",
       " (0, (45, 6.3529)),\n",
       " (0, (46, 4.2733)),\n",
       " (0, (47, 6.3724)),\n",
       " (0, (48, 6.7459)),\n",
       " (0, (49, 5.4399)),\n",
       " (0, (50, 7.2243)),\n",
       " (0, (51, 4.2479)),\n",
       " (0, (52, 4.7904)),\n",
       " (0, (53, 5.6516)),\n",
       " (0, (54, 5.5366)),\n",
       " (0, (55, 4.5003)),\n",
       " (0, (56, 5.5166)),\n",
       " (0, (57, 6.6641)),\n",
       " (0, (58, 6.445)),\n",
       " (0, (59, 1.9403)),\n",
       " (1, (0, 4.779)),\n",
       " (1, (1, 5.0498)),\n",
       " (1, (2, 8.9186)),\n",
       " (1, (3, 9.8314)),\n",
       " (1, (4, 3.2737)),\n",
       " (1, (5, 6.7813)),\n",
       " (1, (6, 6.7365)),\n",
       " (1, (7, 7.7286)),\n",
       " (1, (8, 6.3285)),\n",
       " (1, (9, 6.9972)),\n",
       " (1, (10, 7.8481)),\n",
       " (1, (11, 8.2649)),\n",
       " (1, (12, 9.4944)),\n",
       " (1, (13, 6.7571)),\n",
       " (1, (14, 1.5982)),\n",
       " (1, (15, 5.9255)),\n",
       " (1, (16, 7.2024)),\n",
       " (1, (17, 10.511)),\n",
       " (1, (18, 4.9708)),\n",
       " (1, (19, 5.9218)),\n",
       " (1, (20, 5.2483)),\n",
       " (1, (21, 6.1719)),\n",
       " (1, (22, 5.0795)),\n",
       " (1, (23, 7.8646)),\n",
       " (1, (24, 6.7274)),\n",
       " (1, (25, 2.7123)),\n",
       " (1, (26, 4.9159)),\n",
       " (1, (27, 8.4124)),\n",
       " (1, (28, 6.7003)),\n",
       " (1, (29, 3.9432)),\n",
       " (1, (30, 9.649)),\n",
       " (1, (31, 5.7037)),\n",
       " (1, (32, 3.7129)),\n",
       " (1, (33, 6.2264)),\n",
       " (1, (34, 6.1282)),\n",
       " (1, (35, 8.1372)),\n",
       " (1, (36, 5.037)),\n",
       " (1, (37, 3.5484)),\n",
       " (1, (38, 3.1323)),\n",
       " (1, (39, 6.893)),\n",
       " (1, (40, 8.5231)),\n",
       " (1, (41, 6.0392)),\n",
       " (1, (42, 8.23)),\n",
       " (1, (43, 6.1859)),\n",
       " (1, (44, 8.3255)),\n",
       " (1, (45, 8.8454)),\n",
       " (1, (46, 4.1316)),\n",
       " (1, (47, 4.8554)),\n",
       " (1, (48, 5.1263)),\n",
       " (1, (49, 6.4097)),\n",
       " (1, (50, 5.2029)),\n",
       " (1, (51, 6.5399)),\n",
       " (1, (52, 4.3821)),\n",
       " (1, (53, 4.5818)),\n",
       " (1, (54, 5.3898)),\n",
       " (1, (55, 5.9659)),\n",
       " (1, (56, 7.4705)),\n",
       " (1, (57, 6.5502)),\n",
       " (1, (58, 7.7466)),\n",
       " (1, (59, 5.472))]"
      ]
     },
     "execution_count": 32,
     "metadata": {},
     "output_type": "execute_result"
    }
   ],
   "source": [
    "first_map_matrix_B.take(120)"
   ]
  },
  {
   "cell_type": "code",
   "execution_count": 64,
   "metadata": {},
   "outputs": [
    {
     "data": {
      "text/plain": [
       "PythonRDD[126] at RDD at PythonRDD.scala:53"
      ]
     },
     "execution_count": 64,
     "metadata": {},
     "output_type": "execute_result"
    }
   ],
   "source": [
    "first_reduce_sec_map = first_map_matrix_A.join(first_map_matrix_B).\\\n",
    "    map( lambda line: ((line[1][0][0], line[1][1][0]), line[1][0][1] * line[1][1][1]) )\n",
    "first_reduce_sec_map"
   ]
  },
  {
   "cell_type": "code",
   "execution_count": 45,
   "metadata": {},
   "outputs": [
    {
     "data": {
      "text/plain": [
       "7680000"
      ]
     },
     "execution_count": 45,
     "metadata": {},
     "output_type": "execute_result"
    }
   ],
   "source": [
    "first_reduce_sec_map.count()"
   ]
  },
  {
   "cell_type": "code",
   "execution_count": 57,
   "metadata": {},
   "outputs": [
    {
     "data": {
      "text/plain": [
       "[((0, 0), 17.1704),\n",
       " ((0, 1), 30.8439),\n",
       " ((0, 2), 26.5517),\n",
       " ((0, 3), 36.7244),\n",
       " ((0, 4), 25.5063)]"
      ]
     },
     "execution_count": 57,
     "metadata": {},
     "output_type": "execute_result"
    }
   ],
   "source": [
    "first_reduce_sec_map.take(5)"
   ]
  },
  {
   "cell_type": "code",
   "execution_count": 65,
   "metadata": {},
   "outputs": [
    {
     "data": {
      "text/plain": [
       "PythonRDD[131] at RDD at PythonRDD.scala:53"
      ]
     },
     "execution_count": 65,
     "metadata": {},
     "output_type": "execute_result"
    }
   ],
   "source": [
    "second_reduce = first_reduce_sec_map.reduceByKey( lambda x, y: round(x + y, 4) )\n",
    "second_reduce"
   ]
  },
  {
   "cell_type": "code",
   "execution_count": 48,
   "metadata": {},
   "outputs": [
    {
     "data": {
      "text/plain": [
       "60000"
      ]
     },
     "execution_count": 48,
     "metadata": {},
     "output_type": "execute_result"
    }
   ],
   "source": [
    "second_reduce.count()"
   ]
  },
  {
   "cell_type": "code",
   "execution_count": 66,
   "metadata": {},
   "outputs": [
    {
     "data": {
      "text/plain": [
       "[((0, 0), 2022.5443),\n",
       " ((0, 2), 2145.9141),\n",
       " ((0, 4), 2079.6449),\n",
       " ((0, 6), 2203.4818),\n",
       " ((0, 8), 2179.9472)]"
      ]
     },
     "execution_count": 66,
     "metadata": {},
     "output_type": "execute_result"
    }
   ],
   "source": [
    "second_reduce.take(5)"
   ]
  },
  {
   "cell_type": "code",
   "execution_count": 67,
   "metadata": {},
   "outputs": [
    {
     "data": {
      "text/plain": [
       "PythonRDD[139] at RDD at PythonRDD.scala:53"
      ]
     },
     "execution_count": 67,
     "metadata": {},
     "output_type": "execute_result"
    }
   ],
   "source": [
    "result = second_reduce.sortByKey()\n",
    "result"
   ]
  },
  {
   "cell_type": "code",
   "execution_count": 68,
   "metadata": {},
   "outputs": [
    {
     "data": {
      "text/plain": [
       "[((0, 0), 2022.5443),\n",
       " ((0, 1), 2194.2844),\n",
       " ((0, 2), 2145.9141),\n",
       " ((0, 3), 2232.1916),\n",
       " ((0, 4), 2079.6449),\n",
       " ((0, 5), 2286.4625),\n",
       " ((0, 6), 2203.4818),\n",
       " ((0, 7), 2181.6806),\n",
       " ((0, 8), 2179.9472),\n",
       " ((0, 9), 2139.8339),\n",
       " ((0, 10), 2201.6202),\n",
       " ((0, 11), 2246.1318),\n",
       " ((0, 12), 2112.8754),\n",
       " ((0, 13), 2089.9635),\n",
       " ((0, 14), 2230.4036),\n",
       " ((0, 15), 2326.9978),\n",
       " ((0, 16), 2209.185),\n",
       " ((0, 17), 2128.445),\n",
       " ((0, 18), 2100.9829),\n",
       " ((0, 19), 2264.4892),\n",
       " ((0, 20), 2215.9385),\n",
       " ((0, 21), 2203.7053),\n",
       " ((0, 22), 2202.9464),\n",
       " ((0, 23), 2317.13),\n",
       " ((0, 24), 2104.3664),\n",
       " ((0, 25), 2151.3703),\n",
       " ((0, 26), 2175.0896),\n",
       " ((0, 27), 2280.6067),\n",
       " ((0, 28), 2155.6193),\n",
       " ((0, 29), 2260.3449),\n",
       " ((0, 30), 2130.6846),\n",
       " ((0, 31), 2279.9108),\n",
       " ((0, 32), 2179.3534),\n",
       " ((0, 33), 2093.5267),\n",
       " ((0, 34), 2341.5597),\n",
       " ((0, 35), 2124.6643),\n",
       " ((0, 36), 2228.5736),\n",
       " ((0, 37), 2127.9422),\n",
       " ((0, 38), 2137.3472),\n",
       " ((0, 39), 2105.4985),\n",
       " ((0, 40), 2047.4022),\n",
       " ((0, 41), 2122.7344),\n",
       " ((0, 42), 2191.6016),\n",
       " ((0, 43), 2089.4202),\n",
       " ((0, 44), 2177.4917),\n",
       " ((0, 45), 2234.2762),\n",
       " ((0, 46), 2174.9825),\n",
       " ((0, 47), 2074.6694),\n",
       " ((0, 48), 2184.4335),\n",
       " ((0, 49), 2121.3418),\n",
       " ((0, 50), 2213.7393),\n",
       " ((0, 51), 2210.3966),\n",
       " ((0, 52), 2060.7433),\n",
       " ((0, 53), 2207.9622),\n",
       " ((0, 54), 2219.9204),\n",
       " ((0, 55), 2003.0869),\n",
       " ((0, 56), 2230.581),\n",
       " ((0, 57), 2033.6744),\n",
       " ((0, 58), 2097.0167),\n",
       " ((0, 59), 2067.5354),\n",
       " ((1, 0), 2306.2887),\n",
       " ((1, 1), 2360.2181),\n",
       " ((1, 2), 2206.58),\n",
       " ((1, 3), 2357.8557),\n",
       " ((1, 4), 2270.5469),\n",
       " ((1, 5), 2343.1438),\n",
       " ((1, 6), 2248.7308),\n",
       " ((1, 7), 2305.8919),\n",
       " ((1, 8), 2341.3735),\n",
       " ((1, 9), 2296.1789)]"
      ]
     },
     "execution_count": 68,
     "metadata": {},
     "output_type": "execute_result"
    }
   ],
   "source": [
    "result.take(70)"
   ]
  },
  {
   "cell_type": "markdown",
   "metadata": {},
   "source": [
    "#### Comparing result with dot product Numpy"
   ]
  },
  {
   "cell_type": "code",
   "execution_count": 81,
   "metadata": {},
   "outputs": [
    {
     "name": "stdout",
     "output_type": "stream",
     "text": [
      "1000 128\n",
      "[4.1287, 2.2078, 8.4434, -0.40286, 2.4057] 128\n",
      "[4.1588, 7.4706, 6.431, 8.8949, 6.1778] 60\n"
     ]
    }
   ],
   "source": [
    "print(len(matrix_A_list), len(matrix_B_list))\n",
    "print(matrix_A_list[0][:5], len(matrix_A_list[0]))\n",
    "print(matrix_B_list[0][:5], len(matrix_B_list[0]))"
   ]
  },
  {
   "cell_type": "code",
   "execution_count": 84,
   "metadata": {},
   "outputs": [
    {
     "data": {
      "text/plain": [
       "(1000, 60)"
      ]
     },
     "execution_count": 84,
     "metadata": {},
     "output_type": "execute_result"
    }
   ],
   "source": [
    "matrix_result = np.dot(np.array(matrix_A_list), np.array(matrix_B_list))\n",
    "matrix_result.shape"
   ]
  },
  {
   "cell_type": "code",
   "execution_count": 89,
   "metadata": {},
   "outputs": [
    {
     "name": "stdout",
     "output_type": "stream",
     "text": [
      "2022.5443\n",
      "2194.2845\n",
      "2145.9132\n",
      "2232.1919\n",
      "2079.6451\n",
      "2286.4625\n",
      "2203.4812\n",
      "2181.6809\n",
      "2179.9475\n",
      "2139.834\n",
      "\n",
      "2306.2889\n",
      "2360.2181\n",
      "2206.5806\n",
      "2357.8556\n",
      "2270.5474\n",
      "2343.1441\n",
      "2248.7314\n",
      "2305.8916\n",
      "2341.3737\n",
      "2296.1787\n"
     ]
    }
   ],
   "source": [
    "for value in matrix_result[0][:10]: print(round(value, 4))\n",
    "print()\n",
    "for value in matrix_result[1][:10]: print(round(value, 4))"
   ]
  }
 ],
 "metadata": {
  "kernelspec": {
   "display_name": "PySpark",
   "language": "python",
   "name": "pyspark"
  },
  "language_info": {
   "codemirror_mode": {
    "name": "ipython",
    "version": 3
   },
   "file_extension": ".py",
   "mimetype": "text/x-python",
   "name": "python",
   "nbconvert_exporter": "python",
   "pygments_lexer": "ipython3",
   "version": "3.7.1"
  }
 },
 "nbformat": 4,
 "nbformat_minor": 4
}
