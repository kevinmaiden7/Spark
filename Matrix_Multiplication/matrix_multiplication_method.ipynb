{
 "cells": [
  {
   "cell_type": "markdown",
   "metadata": {},
   "source": [
    "#### Setting up environment"
   ]
  },
  {
   "cell_type": "code",
   "execution_count": 1,
   "metadata": {},
   "outputs": [],
   "source": [
    "import findspark\n",
    "#findspark.init(spark_path)\n",
    "findspark.init()\n",
    "\n",
    "from pyspark.sql import SparkSession, SQLContext\n",
    "from pyspark import SparkContext, SparkConf"
   ]
  },
  {
   "cell_type": "code",
   "execution_count": 2,
   "metadata": {},
   "outputs": [],
   "source": [
    "environment_to_connect = 'local' # CHANGE IT IF CONNECTION TO A CLUSTER\n",
    "\n",
    "conf = SparkConf().setAppName('matrix_multiplication_method').setMaster(environment_to_connect)\n",
    "sc = SparkContext(conf=conf)\n",
    "spark = SQLContext(sc)"
   ]
  },
  {
   "cell_type": "code",
   "execution_count": 3,
   "metadata": {},
   "outputs": [],
   "source": [
    "import time"
   ]
  },
  {
   "cell_type": "markdown",
   "metadata": {},
   "source": [
    "#### Source"
   ]
  },
  {
   "cell_type": "code",
   "execution_count": 5,
   "metadata": {},
   "outputs": [],
   "source": [
    "def convert_row(line, row): # i : row number\n",
    "    coo_row = []\n",
    "    for j in range(len(line)):\n",
    "        value = line[j]\n",
    "        if value != 0: coo_row.append((row,j,value))\n",
    "    return(coo_row)"
   ]
  },
  {
   "cell_type": "code",
   "execution_count": 6,
   "metadata": {},
   "outputs": [],
   "source": [
    "def perform_mult(matrix_A_path, matrix_B_path, num_partitions_matrix_A, num_partitions_matrix_B):\n",
    "    \n",
    "    # Read matrices with spark\n",
    "    matrix_A = sc.textFile(matrix_A_path, num_partitions_matrix_A)\n",
    "    matrix_B = sc.textFile(matrix_B_path, num_partitions_matrix_B)\n",
    "    matrix_A_rows = matrix_A.count()\n",
    "    matrix_B_rows = matrix_B.count()\n",
    "    \n",
    "    # Tokenize values and convert them into float\n",
    "    matrix_A = matrix_A.map( lambda line: list(map(float, line.split(' '))) )\n",
    "    matrix_B = matrix_B.map( lambda line: list(map(float, line.split(' '))) )\n",
    "    matrix_A_columns = len(matrix_A.take(1)[0])\n",
    "    matrix_B_columns = len(matrix_B.take(1)[0])\n",
    "    print('Matrix A --> Rows: ' + str(matrix_A_rows), 'Columns: ' + str(matrix_A_columns))\n",
    "    print('Matrix B --> Rows: ' + str(matrix_B_rows), 'Columns: ' + str(matrix_B_columns))\n",
    "    \n",
    "    # Convert matrices to coordinates (sparse) format\n",
    "    matrix_A_list = matrix_A.collect()\n",
    "    matrix_B_list = matrix_B.collect()\n",
    "    \n",
    "    get_coo_matrix = (lambda matrix_list: [(convert_row(matrix_list[index], index)) for index in range(len(matrix_list))])\n",
    "    \n",
    "    coo_matrix_A = get_coo_matrix(matrix_A_list)\n",
    "    coo_matrix_B = get_coo_matrix(matrix_B_list)\n",
    "    \n",
    "    # Parallelize matrices with sparse format in order to be processed\n",
    "    coo_matrix_A = sc.parallelize(coo_matrix_A, num_partitions_matrix_A)\n",
    "    coo_matrix_B = sc.parallelize(coo_matrix_B, num_partitions_matrix_B)\n",
    "    \n",
    "    # Save RDDs in main memory\n",
    "    coo_matrix_A.cache()\n",
    "    coo_matrix_B.cache()\n",
    "    \n",
    "    # MATRIX MULTIPLICATION --> Two Map/Reduce steps\n",
    "    \n",
    "    start_time = time.time()\n",
    "    \n",
    "    # Produce key, value pairs (j, (i, Aij)) and (j, (k, Bjk))\n",
    "    first_map_matrix_A = coo_matrix_A.flatMap( lambda line: [(row[1], (row[0], row[2])) for row in line] )\n",
    "    first_map_matrix_B = coo_matrix_B.flatMap( lambda line: [(row[0], (row[1], row[2])) for row in line] )\n",
    "    \n",
    "    # For each key j: generate a key-value pair, where the key is (i, k) and the value is Aij*Bjk\n",
    "    # Then, apply the identity function.\n",
    "    first_reduce_sec_map = first_map_matrix_A.join(first_map_matrix_B).\\\n",
    "    map( lambda line: ((line[1][0][0], line[1][1][0]), line[1][0][1] * line[1][1][1]) )\n",
    "    \n",
    "    # Group by key (i,k) and sum the obtained results\n",
    "    second_reduce = first_reduce_sec_map.reduceByKey( lambda x, y: round(x + y, 4) )\n",
    "    \n",
    "    # Sort result. The result consists of pairs ((i,k), v) for the output matrix\n",
    "    result = second_reduce.sortByKey()\n",
    "    \n",
    "    end_time = time.time()\n",
    "    print(\"Total execution time for map/reduce steps: {} seconds\".format(round(end_time - start_time, 2)))\n",
    "    \n",
    "    return(result)"
   ]
  },
  {
   "cell_type": "markdown",
   "metadata": {},
   "source": [
    "### Set parameters"
   ]
  },
  {
   "cell_type": "code",
   "execution_count": 7,
   "metadata": {},
   "outputs": [],
   "source": [
    "matrix_A_path = 'Matriz_Ejemplo_A.dat'\n",
    "num_partitions_matrix_A = 4\n",
    "\n",
    "matrix_B_path = 'Matriz_Ejemplo_B.dat'\n",
    "num_partitions_matrix_B = 4"
   ]
  },
  {
   "cell_type": "markdown",
   "metadata": {},
   "source": [
    "#### Execute multiplication"
   ]
  },
  {
   "cell_type": "code",
   "execution_count": 8,
   "metadata": {},
   "outputs": [
    {
     "name": "stdout",
     "output_type": "stream",
     "text": [
      "Matrix A --> Rows: 1000 Columns: 128\n",
      "Matrix B --> Rows: 128 Columns: 60\n",
      "Total execution time for map/reduce steps: 56.78 seconds\n"
     ]
    }
   ],
   "source": [
    "result_matrix = perform_mult(matrix_A_path, matrix_B_path, num_partitions_matrix_A, num_partitions_matrix_B)"
   ]
  },
  {
   "cell_type": "code",
   "execution_count": 9,
   "metadata": {},
   "outputs": [
    {
     "data": {
      "text/plain": [
       "60000"
      ]
     },
     "execution_count": 9,
     "metadata": {},
     "output_type": "execute_result"
    }
   ],
   "source": [
    "result_matrix.count()"
   ]
  },
  {
   "cell_type": "code",
   "execution_count": 17,
   "metadata": {},
   "outputs": [
    {
     "data": {
      "text/plain": [
       "[((0, 0), 2022.5444),\n",
       " ((0, 1), 2194.2842),\n",
       " ((0, 2), 2145.9138),\n",
       " ((0, 3), 2232.1915),\n",
       " ((0, 4), 2079.6449),\n",
       " ((0, 5), 2286.4627),\n",
       " ((0, 6), 2203.4817),\n",
       " ((0, 7), 2181.6806),\n",
       " ((0, 8), 2179.9474),\n",
       " ((0, 9), 2139.834),\n",
       " ((0, 10), 2201.6203),\n",
       " ((0, 11), 2246.1318),\n",
       " ((0, 12), 2112.8754),\n",
       " ((0, 13), 2089.9636),\n",
       " ((0, 14), 2230.4037),\n",
       " ((0, 15), 2326.9975),\n",
       " ((0, 16), 2209.1852),\n",
       " ((0, 17), 2128.4449),\n",
       " ((0, 18), 2100.983),\n",
       " ((0, 19), 2264.4893),\n",
       " ((0, 20), 2215.9386),\n",
       " ((0, 21), 2203.7053),\n",
       " ((0, 22), 2202.9467),\n",
       " ((0, 23), 2317.13),\n",
       " ((0, 24), 2104.3663),\n",
       " ((0, 25), 2151.3701),\n",
       " ((0, 26), 2175.0895),\n",
       " ((0, 27), 2280.6067),\n",
       " ((0, 28), 2155.6192),\n",
       " ((0, 29), 2260.3447),\n",
       " ((0, 30), 2130.6844),\n",
       " ((0, 31), 2279.9108),\n",
       " ((0, 32), 2179.3533),\n",
       " ((0, 33), 2093.5265),\n",
       " ((0, 34), 2341.5598),\n",
       " ((0, 35), 2124.6642),\n",
       " ((0, 36), 2228.5738),\n",
       " ((0, 37), 2127.9423),\n",
       " ((0, 38), 2137.347),\n",
       " ((0, 39), 2105.4983),\n",
       " ((0, 40), 2047.4024),\n",
       " ((0, 41), 2122.7343),\n",
       " ((0, 42), 2191.6016),\n",
       " ((0, 43), 2089.4203),\n",
       " ((0, 44), 2177.4918),\n",
       " ((0, 45), 2234.2762),\n",
       " ((0, 46), 2174.9825),\n",
       " ((0, 47), 2074.6696),\n",
       " ((0, 48), 2184.4336),\n",
       " ((0, 49), 2121.3415),\n",
       " ((0, 50), 2213.7391),\n",
       " ((0, 51), 2210.3966),\n",
       " ((0, 52), 2060.7435),\n",
       " ((0, 53), 2207.9621),\n",
       " ((0, 54), 2219.9202),\n",
       " ((0, 55), 2003.0868),\n",
       " ((0, 56), 2230.5812),\n",
       " ((0, 57), 2033.6742),\n",
       " ((0, 58), 2097.0167),\n",
       " ((0, 59), 2067.5355),\n",
       " ((1, 0), 2306.2887),\n",
       " ((1, 1), 2360.2182),\n",
       " ((1, 2), 2206.5801),\n",
       " ((1, 3), 2357.8557),\n",
       " ((1, 4), 2270.547),\n",
       " ((1, 5), 2343.1439),\n",
       " ((1, 6), 2248.7309),\n",
       " ((1, 7), 2305.892),\n",
       " ((1, 8), 2341.3736),\n",
       " ((1, 9), 2296.1786)]"
      ]
     },
     "execution_count": 17,
     "metadata": {},
     "output_type": "execute_result"
    }
   ],
   "source": [
    "result_matrix.take(70)"
   ]
  },
  {
   "cell_type": "code",
   "execution_count": 20,
   "metadata": {},
   "outputs": [
    {
     "data": {
      "text/plain": [
       "8"
      ]
     },
     "execution_count": 20,
     "metadata": {},
     "output_type": "execute_result"
    }
   ],
   "source": [
    "result_matrix.getNumPartitions()"
   ]
  },
  {
   "cell_type": "code",
   "execution_count": 11,
   "metadata": {},
   "outputs": [],
   "source": [
    "result_matrix.saveAsTextFile(\"result\") # Save result to disk"
   ]
  },
  {
   "cell_type": "markdown",
   "metadata": {},
   "source": [
    "---"
   ]
  },
  {
   "cell_type": "code",
   "execution_count": 16,
   "metadata": {},
   "outputs": [
    {
     "data": {
      "text/plain": [
       "result MapPartitionsRDD[34] at textFile at <unknown>:0"
      ]
     },
     "execution_count": 16,
     "metadata": {},
     "output_type": "execute_result"
    }
   ],
   "source": [
    "output_matrix = sc.textFile(\"result\") # Restore output matrix from generated files\n",
    "output_matrix"
   ]
  },
  {
   "cell_type": "code",
   "execution_count": 21,
   "metadata": {},
   "outputs": [
    {
     "data": {
      "text/plain": [
       "8"
      ]
     },
     "execution_count": 21,
     "metadata": {},
     "output_type": "execute_result"
    }
   ],
   "source": [
    "output_matrix.getNumPartitions()"
   ]
  },
  {
   "cell_type": "code",
   "execution_count": 18,
   "metadata": {},
   "outputs": [
    {
     "data": {
      "text/plain": [
       "60000"
      ]
     },
     "execution_count": 18,
     "metadata": {},
     "output_type": "execute_result"
    }
   ],
   "source": [
    "output_matrix.count()"
   ]
  },
  {
   "cell_type": "code",
   "execution_count": 19,
   "metadata": {},
   "outputs": [
    {
     "data": {
      "text/plain": [
       "[((0, 0), 2022.5444),\n",
       " ((0, 1), 2194.2842),\n",
       " ((0, 2), 2145.9138),\n",
       " ((0, 3), 2232.1915),\n",
       " ((0, 4), 2079.6449),\n",
       " ((0, 5), 2286.4627),\n",
       " ((0, 6), 2203.4817),\n",
       " ((0, 7), 2181.6806),\n",
       " ((0, 8), 2179.9474),\n",
       " ((0, 9), 2139.834),\n",
       " ((0, 10), 2201.6203),\n",
       " ((0, 11), 2246.1318),\n",
       " ((0, 12), 2112.8754),\n",
       " ((0, 13), 2089.9636),\n",
       " ((0, 14), 2230.4037),\n",
       " ((0, 15), 2326.9975),\n",
       " ((0, 16), 2209.1852),\n",
       " ((0, 17), 2128.4449),\n",
       " ((0, 18), 2100.983),\n",
       " ((0, 19), 2264.4893),\n",
       " ((0, 20), 2215.9386),\n",
       " ((0, 21), 2203.7053),\n",
       " ((0, 22), 2202.9467),\n",
       " ((0, 23), 2317.13),\n",
       " ((0, 24), 2104.3663),\n",
       " ((0, 25), 2151.3701),\n",
       " ((0, 26), 2175.0895),\n",
       " ((0, 27), 2280.6067),\n",
       " ((0, 28), 2155.6192),\n",
       " ((0, 29), 2260.3447),\n",
       " ((0, 30), 2130.6844),\n",
       " ((0, 31), 2279.9108),\n",
       " ((0, 32), 2179.3533),\n",
       " ((0, 33), 2093.5265),\n",
       " ((0, 34), 2341.5598),\n",
       " ((0, 35), 2124.6642),\n",
       " ((0, 36), 2228.5738),\n",
       " ((0, 37), 2127.9423),\n",
       " ((0, 38), 2137.347),\n",
       " ((0, 39), 2105.4983),\n",
       " ((0, 40), 2047.4024),\n",
       " ((0, 41), 2122.7343),\n",
       " ((0, 42), 2191.6016),\n",
       " ((0, 43), 2089.4203),\n",
       " ((0, 44), 2177.4918),\n",
       " ((0, 45), 2234.2762),\n",
       " ((0, 46), 2174.9825),\n",
       " ((0, 47), 2074.6696),\n",
       " ((0, 48), 2184.4336),\n",
       " ((0, 49), 2121.3415),\n",
       " ((0, 50), 2213.7391),\n",
       " ((0, 51), 2210.3966),\n",
       " ((0, 52), 2060.7435),\n",
       " ((0, 53), 2207.9621),\n",
       " ((0, 54), 2219.9202),\n",
       " ((0, 55), 2003.0868),\n",
       " ((0, 56), 2230.5812),\n",
       " ((0, 57), 2033.6742),\n",
       " ((0, 58), 2097.0167),\n",
       " ((0, 59), 2067.5355),\n",
       " ((1, 0), 2306.2887),\n",
       " ((1, 1), 2360.2182),\n",
       " ((1, 2), 2206.5801),\n",
       " ((1, 3), 2357.8557),\n",
       " ((1, 4), 2270.547),\n",
       " ((1, 5), 2343.1439),\n",
       " ((1, 6), 2248.7309),\n",
       " ((1, 7), 2305.892),\n",
       " ((1, 8), 2341.3736),\n",
       " ((1, 9), 2296.1786)]"
      ]
     },
     "execution_count": 19,
     "metadata": {},
     "output_type": "execute_result"
    }
   ],
   "source": [
    "result_matrix.take(70)"
   ]
  }
 ],
 "metadata": {
  "kernelspec": {
   "display_name": "PySpark",
   "language": "python",
   "name": "pyspark"
  },
  "language_info": {
   "codemirror_mode": {
    "name": "ipython",
    "version": 3
   },
   "file_extension": ".py",
   "mimetype": "text/x-python",
   "name": "python",
   "nbconvert_exporter": "python",
   "pygments_lexer": "ipython3",
   "version": "3.7.1"
  }
 },
 "nbformat": 4,
 "nbformat_minor": 4
}
