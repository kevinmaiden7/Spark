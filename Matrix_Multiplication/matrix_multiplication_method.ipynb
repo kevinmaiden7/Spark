{
 "cells": [
  {
   "cell_type": "markdown",
   "metadata": {},
   "source": [
    "#### Setting up environment"
   ]
  },
  {
   "cell_type": "code",
   "execution_count": 1,
   "metadata": {},
   "outputs": [],
   "source": [
    "import findspark\n",
    "#findspark.init(spark_path)\n",
    "findspark.init()\n",
    "\n",
    "from pyspark.sql import SparkSession, SQLContext\n",
    "from pyspark import SparkContext, SparkConf"
   ]
  },
  {
   "cell_type": "code",
   "execution_count": 2,
   "metadata": {},
   "outputs": [],
   "source": [
    "environment_to_connect = 'local' # CHANGE IT IF CONNECTION TO A CLUSTER\n",
    "\n",
    "conf = SparkConf().setAppName('matrix_multiplication_method').setMaster(environment_to_connect)\n",
    "sc = SparkContext(conf=conf)\n",
    "spark = SQLContext(sc)"
   ]
  },
  {
   "cell_type": "code",
   "execution_count": 3,
   "metadata": {},
   "outputs": [],
   "source": [
    "import time"
   ]
  },
  {
   "cell_type": "markdown",
   "metadata": {},
   "source": [
    "#### Source"
   ]
  },
  {
   "cell_type": "code",
   "execution_count": 4,
   "metadata": {},
   "outputs": [],
   "source": [
    "def convert_row(line, row): # i : row number\n",
    "    coo_row = []\n",
    "    for j in range(len(line)):\n",
    "        value = line[j]\n",
    "        if value != 0: coo_row.append((row,j,value))\n",
    "    return(coo_row)"
   ]
  },
  {
   "cell_type": "code",
   "execution_count": 5,
   "metadata": {},
   "outputs": [],
   "source": [
    "def perform_mult(matrix_A_path, matrix_B_path, num_partitions_matrix_A, num_partitions_matrix_B):\n",
    "    \n",
    "    # Read matrices\n",
    "    matrix_A = sc.textFile(matrix_A_path, num_partitions_matrix_A)\n",
    "    matrix_B = sc.textFile(matrix_B_path, num_partitions_matrix_B)\n",
    "    matrix_A_rows = matrix_A.count()\n",
    "    matrix_B_rows = matrix_B.count()\n",
    "    \n",
    "    # Tokenize values and convert them into float\n",
    "    matrix_A = matrix_A.map( lambda line: list(map(float, line.split(' '))) )\n",
    "    matrix_B = matrix_B.map( lambda line: list(map(float, line.split(' '))) )\n",
    "    matrix_A_columns = len(matrix_A.take(1)[0])\n",
    "    matrix_B_columns = len(matrix_B.take(1)[0])\n",
    "    print('Matrix A --> Rows: ' + str(matrix_A_rows), 'Columns: ' + str(matrix_A_columns))\n",
    "    print('Matrix B --> Rows: ' + str(matrix_B_rows), 'Columns: ' + str(matrix_B_columns))\n",
    "    \n",
    "    # Convert matrices to coordinates (sparse) format\n",
    "    matrix_A_list = matrix_A.collect()\n",
    "    matrix_B_list = matrix_B.collect()\n",
    "    \n",
    "    get_coo_matrix = (lambda matrix_list: [(convert_row(matrix_list[index], index)) for index in range(len(matrix_list))])\n",
    "    \n",
    "    coo_matrix_A = get_coo_matrix(matrix_A_list)\n",
    "    coo_matrix_B = get_coo_matrix(matrix_B_list)\n",
    "    \n",
    "    # Parallelize matrices with sparse format in order to be processed\n",
    "    coo_matrix_A = sc.parallelize(coo_matrix_A, num_partitions_matrix_A)\n",
    "    coo_matrix_B = sc.parallelize(coo_matrix_B, num_partitions_matrix_B)\n",
    "    \n",
    "    # Save RDDs in main memory\n",
    "    coo_matrix_A.cache()\n",
    "    coo_matrix_B.cache()\n",
    "    \n",
    "    # MATRIX MULTIPLICATION --> Two Map/Reduce steps\n",
    "    \n",
    "    start_time = time.time()\n",
    "    \n",
    "    # Produce key, value pairs (j, (i, Aij)) and (j, (k, Bjk))\n",
    "    first_map_matrix_A = coo_matrix_A.flatMap( lambda line: [(row[1], (row[0], row[2])) for row in line] )\n",
    "    first_map_matrix_B = coo_matrix_B.flatMap( lambda line: [(row[0], (row[1], row[2])) for row in line] )\n",
    "    \n",
    "    # For each key j: generate a key-value pair, where the key is (i, k) and the value is Aij*Bjk\n",
    "    # Then, apply the identity function.\n",
    "    first_reduce_sec_map = first_map_matrix_A.join(first_map_matrix_B).\\\n",
    "    map( lambda line: ((line[1][0][0], line[1][1][0]), line[1][0][1] * line[1][1][1]) )\n",
    "    \n",
    "    # Group by key (i,k) and sum the obtained results\n",
    "    second_reduce = first_reduce_sec_map.reduceByKey( lambda x, y: round(x + y, 4) )\n",
    "    \n",
    "    # Sort result. The result consists of pairs ((i,k), v) for the output matrix\n",
    "    result = second_reduce.sortByKey()\n",
    "    \n",
    "    end_time = time.time()\n",
    "    print(\"Total execution time for map/reduce steps: {} seconds\".format(round(end_time - start_time, 2)))\n",
    "    \n",
    "    return(result)"
   ]
  },
  {
   "cell_type": "markdown",
   "metadata": {},
   "source": [
    "#### Set parameters"
   ]
  },
  {
   "cell_type": "code",
   "execution_count": 9,
   "metadata": {},
   "outputs": [],
   "source": [
    "matrix_A_path = 'Matriz_Ejemplo_A.dat'\n",
    "num_partitions_matrix_A = 1\n",
    "\n",
    "matrix_B_path = 'Matriz_Ejemplo_B.dat'\n",
    "num_partitions_matrix_B = 1"
   ]
  },
  {
   "cell_type": "markdown",
   "metadata": {},
   "source": [
    "#### Execute multiplication"
   ]
  },
  {
   "cell_type": "code",
   "execution_count": 10,
   "metadata": {},
   "outputs": [
    {
     "name": "stdout",
     "output_type": "stream",
     "text": [
      "Matrix A --> Rows: 1000 Columns: 128\n",
      "Matrix B --> Rows: 128 Columns: 60\n",
      "Total execution time for map/reduce steps: 30.64 seconds\n"
     ]
    }
   ],
   "source": [
    "result_matrix = perform_mult(matrix_A_path, matrix_B_path, num_partitions_matrix_A, num_partitions_matrix_B)"
   ]
  },
  {
   "cell_type": "code",
   "execution_count": 11,
   "metadata": {},
   "outputs": [
    {
     "data": {
      "text/plain": [
       "60000"
      ]
     },
     "execution_count": 11,
     "metadata": {},
     "output_type": "execute_result"
    }
   ],
   "source": [
    "result_matrix.count()"
   ]
  },
  {
   "cell_type": "code",
   "execution_count": 12,
   "metadata": {},
   "outputs": [
    {
     "data": {
      "text/plain": [
       "[((0, 0), 2022.5443),\n",
       " ((0, 1), 2194.2844),\n",
       " ((0, 2), 2145.9141),\n",
       " ((0, 3), 2232.1916),\n",
       " ((0, 4), 2079.6449),\n",
       " ((0, 5), 2286.4625),\n",
       " ((0, 6), 2203.4818),\n",
       " ((0, 7), 2181.6806),\n",
       " ((0, 8), 2179.9472),\n",
       " ((0, 9), 2139.8339),\n",
       " ((0, 10), 2201.6202),\n",
       " ((0, 11), 2246.1318),\n",
       " ((0, 12), 2112.8754),\n",
       " ((0, 13), 2089.9635),\n",
       " ((0, 14), 2230.4036),\n",
       " ((0, 15), 2326.9978),\n",
       " ((0, 16), 2209.185),\n",
       " ((0, 17), 2128.445),\n",
       " ((0, 18), 2100.9829),\n",
       " ((0, 19), 2264.4892),\n",
       " ((0, 20), 2215.9385),\n",
       " ((0, 21), 2203.7053),\n",
       " ((0, 22), 2202.9464),\n",
       " ((0, 23), 2317.13),\n",
       " ((0, 24), 2104.3664),\n",
       " ((0, 25), 2151.3703),\n",
       " ((0, 26), 2175.0896),\n",
       " ((0, 27), 2280.6067),\n",
       " ((0, 28), 2155.6193),\n",
       " ((0, 29), 2260.3449),\n",
       " ((0, 30), 2130.6846),\n",
       " ((0, 31), 2279.9108),\n",
       " ((0, 32), 2179.3534),\n",
       " ((0, 33), 2093.5267),\n",
       " ((0, 34), 2341.5597),\n",
       " ((0, 35), 2124.6643),\n",
       " ((0, 36), 2228.5736),\n",
       " ((0, 37), 2127.9422),\n",
       " ((0, 38), 2137.3472),\n",
       " ((0, 39), 2105.4985),\n",
       " ((0, 40), 2047.4022),\n",
       " ((0, 41), 2122.7344),\n",
       " ((0, 42), 2191.6016),\n",
       " ((0, 43), 2089.4202),\n",
       " ((0, 44), 2177.4917),\n",
       " ((0, 45), 2234.2762),\n",
       " ((0, 46), 2174.9825),\n",
       " ((0, 47), 2074.6694),\n",
       " ((0, 48), 2184.4335),\n",
       " ((0, 49), 2121.3418),\n",
       " ((0, 50), 2213.7393),\n",
       " ((0, 51), 2210.3966),\n",
       " ((0, 52), 2060.7433),\n",
       " ((0, 53), 2207.9622),\n",
       " ((0, 54), 2219.9204),\n",
       " ((0, 55), 2003.0869),\n",
       " ((0, 56), 2230.581),\n",
       " ((0, 57), 2033.6744),\n",
       " ((0, 58), 2097.0167),\n",
       " ((0, 59), 2067.5354),\n",
       " ((1, 0), 2306.2887),\n",
       " ((1, 1), 2360.2181),\n",
       " ((1, 2), 2206.58),\n",
       " ((1, 3), 2357.8557),\n",
       " ((1, 4), 2270.5469),\n",
       " ((1, 5), 2343.1438),\n",
       " ((1, 6), 2248.7308),\n",
       " ((1, 7), 2305.8919),\n",
       " ((1, 8), 2341.3735),\n",
       " ((1, 9), 2296.1789)]"
      ]
     },
     "execution_count": 12,
     "metadata": {},
     "output_type": "execute_result"
    }
   ],
   "source": [
    "result_matrix.take(70)"
   ]
  }
 ],
 "metadata": {
  "kernelspec": {
   "display_name": "PySpark",
   "language": "python",
   "name": "pyspark"
  },
  "language_info": {
   "codemirror_mode": {
    "name": "ipython",
    "version": 3
   },
   "file_extension": ".py",
   "mimetype": "text/x-python",
   "name": "python",
   "nbconvert_exporter": "python",
   "pygments_lexer": "ipython3",
   "version": "3.7.1"
  }
 },
 "nbformat": 4,
 "nbformat_minor": 4
}
